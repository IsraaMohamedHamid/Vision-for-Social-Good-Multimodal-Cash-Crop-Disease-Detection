{
 "cells": [
  {
   "cell_type": "markdown",
   "id": "2fe7c3f7",
   "metadata": {},
   "source": [
    "# Step 1: Setup and Initialization\n",
    "First, make sure you have the Earth Engine Python API installed and authenticated on your local machine. You can install it via pip and authenticate using the following commands:"
   ]
  },
  {
   "cell_type": "code",
   "execution_count": null,
   "id": "ba122330",
   "metadata": {},
   "outputs": [],
   "source": [
    "# !pip3 install earthengine-api\n",
    "# !pip3 install folium\n",
    "# earthengine authenticate"
   ]
  },
  {
   "cell_type": "code",
   "execution_count": null,
   "id": "93ec7dfe",
   "metadata": {},
   "outputs": [],
   "source": [
    "# ALL\n",
    "import ee\n",
    "import folium\n",
    "import PIL\n",
    "import urllib\n",
    "\n",
    "# AS\n",
    "import matplotlib.pyplot as plt\n",
    "import numpy as np\n",
    "\n",
    "# FROM\n",
    "from IPython.display import Image"
   ]
  },
  {
   "cell_type": "markdown",
   "id": "f0115da1",
   "metadata": {},
   "source": [
    "# Step 2: Define Area of Interest\n",
    "Specify the geographic boundaries of your area of interest (AOI) in Sudan. This could be a specific region where you suspect crop diseases. The coordinates are defined in longitude and latitude."
   ]
  },
  {
   "cell_type": "code",
   "execution_count": null,
   "id": "0ec40f94",
   "metadata": {},
   "outputs": [],
   "source": [
    "# Authenticate the Earth Engine module.\n",
    "ee.Authenticate()"
   ]
  },
  {
   "cell_type": "code",
   "execution_count": null,
   "id": "3febf9fc",
   "metadata": {},
   "outputs": [],
   "source": [
    "# Initialize the Earth Engine library\n",
    "ee.Initialize()"
   ]
  },
  {
   "cell_type": "markdown",
   "id": "e1c72f98",
   "metadata": {},
   "source": [
    "# Step 2: Define Area of Interest\n",
    "Specify the geographic boundaries of your area of interest (AOI) in Sudan. This could be a specific region where you suspect crop diseases. The coordinates are defined in longitude and latitude."
   ]
  },
  {
   "cell_type": "code",
   "execution_count": null,
   "id": "8cc1ac54",
   "metadata": {},
   "outputs": [],
   "source": [
    "# Define a Point and then buffer it to create an area (adjust buffer size as needed).\n",
    "aoi = ee.Geometry.Point([30.5, 12.0]).buffer(10000)  # Buffer in meters around the point\n",
    "\n",
    "# Define the Study Area in Sudan\n",
    "sudan_region = ee.Geometry.Rectangle([32.5, 13.0, 34.0, 14.5])  # Adjust these coordinates as needed"
   ]
  },
  {
   "cell_type": "code",
   "execution_count": null,
   "id": "353dd62d",
   "metadata": {},
   "outputs": [],
   "source": [
    "# Step 2: Define Training Data\n",
    "# Note: Adjust the paths according to your actual GEE assets for Sudan training data\n",
    "sudan_training = ee.FeatureCollection('path_to_sudan_training_data/cropland').merge(\n",
    "    ee.FeatureCollection('path_to_sudan_training_data/fallow_land')).merge(\n",
    "    ee.FeatureCollection('path_to_sudan_training_data/irrigated_land'))"
   ]
  },
  {
   "cell_type": "markdown",
   "id": "49930cc6",
   "metadata": {},
   "source": [
    "# Step 3: Acquire Sentinel-2 Imagery\n",
    "Fetch Sentinel-2 imagery that covers your AOI. Filter by date and other relevant properties like cloud cover."
   ]
  },
  {
   "cell_type": "code",
   "execution_count": null,
   "id": "d8acb092",
   "metadata": {},
   "outputs": [],
   "source": [
    "# Set date range for historical imagery relevant to your analysis\n",
    "start_date = '2022-01-01' # Start of growing season\n",
    "end_date = '2022-12-31' # End of growing season"
   ]
  },
  {
   "cell_type": "code",
   "execution_count": null,
   "id": "ebb9194e",
   "metadata": {},
   "outputs": [],
   "source": [
    "# Load Sentinel-2 imagery and filter by date, cloud cover and area\n",
    "s2 = (ee.ImageCollection('COPERNICUS/S2')\n",
    "      .filterDate(start_date, end_date)\n",
    "      .filter(ee.Filter.lt('CLOUDY_PIXEL_PERCENTAGE', 10))  # Low cloud cover\n",
    "      .filterBounds(sudan_region))"
   ]
  },
  {
   "cell_type": "code",
   "execution_count": null,
   "id": "092a58a4",
   "metadata": {},
   "outputs": [],
   "source": [
    "# Use median reduction to combine images into one representative image\n",
    "composite = s2.median().clip(aoi)"
   ]
  },
  {
   "cell_type": "markdown",
   "id": "5770d13e",
   "metadata": {},
   "source": [
    "# Step 4: Preprocess the Data\n",
    "Select specific bands and perform any necessary preprocessing like normalization or spectral indices (e.g., NDVI for vegetation health)."
   ]
  },
  {
   "cell_type": "code",
   "execution_count": null,
   "id": "54e6ed11",
   "metadata": {},
   "outputs": [],
   "source": [
    "# Select bands typically useful for vegetation analysis (Red, Green, Blue, NIR)\n",
    "bands = ['B4', 'B3', 'B2', 'B8']\n",
    "image = composite.select(bands)\n",
    "\n",
    "# Select the least cloudy image and calculate NDVI.\n",
    "least_cloudy = s2.sort('CLOUDY_PIXEL_PERCENTAGE').first()\n",
    "\n",
    "# Calculate NDVI (Normalized Difference Vegetation Index)\n",
    "# ndvi = image.normalizedDifference(['B8', 'B4']).rename('NDVI')\n",
    "ndvi = least_cloudy.normalizedDifference(['B8', 'B4']).rename('NDVI')"
   ]
  },
  {
   "cell_type": "code",
   "execution_count": null,
   "id": "727eb6f9",
   "metadata": {},
   "outputs": [],
   "source": [
    "# Function to add EE layer to folium map.\n",
    "def add_ee_layer(self, ee_image_object, vis_params, name):\n",
    "    map_id_dict = ee.Image(ee_image_object).getMapId(vis_params)\n",
    "    folium.raster_layers.TileLayer(\n",
    "        tiles=map_id_dict['tile_fetcher'].url_format,\n",
    "        attr='Map Data © Google Earth Engine',\n",
    "        name=name,\n",
    "        overlay=True,\n",
    "        control=True\n",
    "    ).add_to(self)"
   ]
  },
  {
   "cell_type": "code",
   "execution_count": null,
   "id": "ca3a5657",
   "metadata": {},
   "outputs": [],
   "source": [
    "# Function to process the imagery and classify land use\n",
    "def land_map():\n",
    "    # Select the least cloudy image\n",
    "    least_cloudy = s2.sort('CLOUDY_PIXEL_PERCENTAGE').first()\n",
    "    ndvi = least_cloudy.normalizedDifference(['B8', 'B4']).rename('NDVI')\n",
    "    image_with_indices = least_cloudy.addBands(ndvi)\n",
    "    \n",
    "    # Sampling the image to get training data\n",
    "    training = image_with_indices.sampleRegions(\n",
    "        collection=sudan_training,\n",
    "        properties=['landcover'],\n",
    "        scale=10\n",
    "    )\n",
    "    \n",
    "    # Train a classifier\n",
    "    classifier = ee.Classifier.smileRandomForest(50).train(\n",
    "        features=training,\n",
    "        classProperty='landcover',\n",
    "        inputProperties=image_with_indices.bandNames()\n",
    "    )\n",
    "    \n",
    "    # Classify the image\n",
    "    classified_image = image_with_indices.classify(classifier)\n",
    "    \n",
    "    # Add layers to the map\n",
    "    map = ee.Map()\n",
    "    map.centerObject(sudan_region, 8)\n",
    "    map.addLayer(classified_image, {'min': 0, 'max': 3, 'palette': ['green', 'yellow', 'blue']}, 'Land Cover')\n",
    "    map.addLayer(ndvi, {'min': 0, 'max': 1, 'palette': ['white', 'green']}, 'NDVI')\n",
    "    \n",
    "    return map\n"
   ]
  },
  {
   "cell_type": "markdown",
   "id": "9336d4b6",
   "metadata": {},
   "source": [
    "# Step 5: Visualization\n",
    "Visualize the data to manually inspect the area for signs of crop disease or to validate outputs."
   ]
  },
  {
   "cell_type": "code",
   "execution_count": null,
   "id": "2944b6da",
   "metadata": {},
   "outputs": [],
   "source": [
    "# Add Earth Engine drawing method to folium.\n",
    "folium.Map.add_ee_layer = add_ee_layer\n",
    "\n",
    "# Create a folium map object.\n",
    "my_map = folium.Map(location=[13.75, 33.25], zoom_start=8, height=500)\n",
    "\n",
    "# Add the NDVI layer to the map.\n",
    "my_map.add_ee_layer(ndvi, {'min': 0, 'max': 1, 'palette': ['white', 'green']}, 'NDVI')\n",
    "\n",
    "# Add a layer control panel to the map.\n",
    "my_map.add_child(folium.LayerControl())\n",
    "\n",
    "# Display the map.\n",
    "my_map"
   ]
  },
  {
   "cell_type": "code",
   "execution_count": null,
   "id": "855aa837",
   "metadata": {},
   "outputs": [],
   "source": [
    "# To visualize the result in a Jupyter Notebook:\n",
    "# url = land_map().getMapId()['tile_fetcher'].url_format\n",
    "# Image(url=url)"
   ]
  },
  {
   "cell_type": "code",
   "execution_count": null,
   "id": "2a8d20dc",
   "metadata": {},
   "outputs": [],
   "source": [
    "# Fetch the NDVI image data as a NumPy array for visualization\n",
    "url = ndvi.getThumbURL({'min': 0, 'max': 1, 'dimensions': 512, 'format': 'png'})\n",
    "# Example code to display URL (actual code will depend on your environment)\n"
   ]
  },
  {
   "cell_type": "code",
   "execution_count": null,
   "id": "e2a1dda3",
   "metadata": {},
   "outputs": [],
   "source": [
    "# Convert the image to RGB format\n",
    "image_rgb = np.array(PIL.Image.open(urllib.request.urlopen(url)).convert('RGB'))\n",
    "\n",
    "# Display the RGB image\n",
    "plt.imshow(image_rgb)"
   ]
  },
  {
   "cell_type": "code",
   "execution_count": null,
   "id": "31d4c7c3",
   "metadata": {},
   "outputs": [],
   "source": [
    "import ee\n",
    "import time\n",
    "\n",
    "ee.Initialize()\n",
    "\n",
    "# Define the region of interest (ROI) using a polygon\n",
    "roi = ee.Geometry.Polygon(\n",
    "    [\n",
    "        [\n",
    "            [33.361, 14.541],  # Northwestern boundary\n",
    "            [33.661, 14.542],  # Northeastern boundary\n",
    "            [33.660, 14.320],  # Southeastern boundary\n",
    "            [33.360, 14.321]   # Southwestern boundary\n",
    "        ]\n",
    "    ], None, False)\n",
    "\n",
    "\n",
    "# Define the Sentinel-2 Surface Reflectance image collection\n",
    "sentinel_collection = ee.ImageCollection(\"COPERNICUS/S2_SR\")\n",
    "\n",
    "# Set variables\n",
    "start_date = ee.Date('2021-02-01')\n",
    "end_date = ee.Date('2021-05-20')\n",
    "cloud_percentage = 30\n",
    "interval = 30\n",
    "increment = 'day'\n",
    "\n",
    "# Get district of interest and center map view (Assuming `roi` is defined)\n",
    "# Map.centerObject(roi, 8)  # Comment this line if not using an interactive map environment like in Python\n",
    "\n",
    "# Function to add NDVI to each image in the collection\n",
    "def add_ndvi(image):\n",
    "    ndvi = image.normalizedDifference(['B8', 'B4']).rename('NDVI')\n",
    "    return image.addBands(ndvi)\n",
    "\n",
    "def add_indices(image):\n",
    "    # Calculate NDVI\n",
    "    ndvi = image.normalizedDifference(['B8', 'B4']).rename('NDVI')\n",
    "    \n",
    "    # Calculate EVI using the formula: 2.5 * (NIR - RED) / (NIR + 6*RED - 7.5*BLUE + 1)\n",
    "    evi = image.expression(\n",
    "        '2.5 * (NIR - RED) / (NIR + 6 * RED - 7.5 * BLUE + 1)', {\n",
    "            'NIR': image.select('B8'),\n",
    "            'RED': image.select('B4'),\n",
    "            'BLUE': image.select('B2')\n",
    "        }).rename('EVI')\n",
    "    \n",
    "    # Add both NDVI and EVI as bands\n",
    "    return image.addBands([ndvi, evi])\n",
    "\n",
    "# Get the image collection\n",
    "sentinel_collection = ee.ImageCollection('COPERNICUS/S2')  # Assumed Sentinel-2 image collection ID\n",
    "\n",
    "# Use the updated function to map over the image collection\n",
    "sentinel_ts = (sentinel_collection \n",
    "               .filterBounds(roi) \n",
    "               .filterDate(start_date, end_date) \n",
    "               .select(['B4', 'B8', 'B2']) \n",
    "               .filter(ee.Filter.lte('CLOUDY_PIXEL_PERCENTAGE', cloud_percentage)) \n",
    "               .map(add_indices) \n",
    "               .select(['NDVI', 'EVI'])\n",
    "               )\n",
    "\n",
    "# Make a list of start times for composites\n",
    "second_date = start_date.advance(interval, increment)\n",
    "increase = second_date.millis().subtract(start_date.millis())\n",
    "date_list = ee.List.sequence(start_date.millis(), end_date.millis(), interval * 8640000) # increase)\n",
    "# date_list = ee.List.sequence(start_date.millis(), end_date.millis(), ee.Date(interval, increment).millis().subtract(start_date.millis()))\n",
    "\n",
    "# Ensure there are images in the collection\n",
    "print(\"Number of images in collection: \", sentinel_ts.size().getInfo())\n",
    "print(\"Date list: \", len(date_list.getInfo()))\n",
    "\n",
    "# Monthly composite\n",
    "def create_composite(date):\n",
    "    date = ee.Date(date)\n",
    "    filtered_collection = sentinel_ts.filterDate(date, date.advance(interval, increment))\n",
    "    return filtered_collection.mean().set('system:time_start', date.millis())\n",
    "\n",
    "new_col = ee.ImageCollection(date_list.map(create_composite))\n",
    "\n",
    "# Convert collection to image\n",
    "new_col = new_col.toBands() # .clip(roi)\n",
    "\n",
    "print(\"New collection: \", len(new_col.getInfo()))\n",
    "\n",
    "# Visualize NDVI as red, EVI as yellow, and use the 'B4' band as green\n",
    "visual_params = {\n",
    "    'min': 0,\n",
    "    'max': 1,\n",
    "    'bands': ['0_NDVI','1_NDVI', '2_NDVI'],\n",
    "    'palette': ['blue', 'white', 'green'],\n",
    "    # 'region': roi.coordinates().getInfo()  # Explicitly get coordinates\n",
    "}\n",
    "\n",
    "\n",
    "# Calculate NDVI and NDRE\n",
    "# ndvi = sentinel_ts.normalizedDifference(['B8', 'B4']).rename('NDVI')\n",
    "# ndre = sentinel_ts.normalizedDifference(['B8', 'B5']).rename('NDRE')\n",
    "\n",
    "# ndre_url = ndre.getThumbURL(visual_params)\n",
    "\n",
    "# Generate thumbnail URL for the NDVI composite\n",
    "ndvi_url = new_col.visualize(**visual_params).getThumbURL({\n",
    "    # 'min': 0,\n",
    "    # 'max': 1,\n",
    "    'dimensions': 1200,\n",
    "    'region': roi.getInfo()['coordinates']\n",
    "})\n",
    "\n",
    "# ndre_url = new_col.visualize(**visual_params).getThumbURL({\n",
    "#     # 'min': 0,\n",
    "#     # 'max': 1,\n",
    "#     'dimensions': 1200,\n",
    "#     'region': roi.getInfo()['coordinates']\n",
    "# })\n",
    "\n",
    "print('NDVI image URL:', ndvi_url)\n",
    "# print('NDRE image URL:', ndre_url)\n",
    "\n",
    "# Define export parameters for Google Drive\n",
    "task = ee.batch.Export.image.toDrive(\n",
    "    image=new_col.visualize(**visual_params),\n",
    "    description='Local_NDVI_Composite',\n",
    "    folder='Multimodal Cash Crop Disease Detection - Gezira Scheme',  # Make sure this folder exists in your Google Drive\n",
    "    # fileNamePrefix=f'Local_NDVI_Composite_',\n",
    "    scale=30,  # Scale is set to 30 meters\n",
    "    region=roi.coordinates().getInfo(),\n",
    "    fileFormat='GeoTIFF'\n",
    ")\n",
    "\n",
    "# Start the export task\n",
    "task.start()\n",
    "\n",
    "# Optionally, print the URL (if small region) or monitor status\n",
    "while task.status()['state'] in ['READY', 'RUNNING']:\n",
    "    print(task.status())\n",
    "    time.sleep(10)\n",
    "else:\n",
    "    print('Export completed with state:', task.status()['state'])"
   ]
  }
 ],
 "metadata": {
  "kernelspec": {
   "display_name": "Python 3",
   "language": "python",
   "name": "python3"
  },
  "language_info": {
   "codemirror_mode": {
    "name": "ipython",
    "version": 3
   },
   "file_extension": ".py",
   "mimetype": "text/x-python",
   "name": "python",
   "nbconvert_exporter": "python",
   "pygments_lexer": "ipython3",
   "version": "3.11.2"
  }
 },
 "nbformat": 4,
 "nbformat_minor": 5
}
