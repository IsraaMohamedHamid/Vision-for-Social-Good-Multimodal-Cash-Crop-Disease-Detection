{
 "cells": [
  {
   "cell_type": "markdown",
   "id": "2fe7c3f7",
   "metadata": {},
   "source": [
    "# Step 1: Setup and Initialization\n",
    "First, make sure you have the Earth Engine Python API installed and authenticated on your local machine. You can install it via pip and authenticate using the following commands:"
   ]
  },
  {
   "cell_type": "code",
   "execution_count": 48,
   "id": "ba122330",
   "metadata": {},
   "outputs": [
    {
     "data": {
      "text/html": [
       "\n",
       "            <style>\n",
       "                .geemap-dark {\n",
       "                    --jp-widgets-color: white;\n",
       "                    --jp-widgets-label-color: white;\n",
       "                    --jp-ui-font-color1: white;\n",
       "                    --jp-layout-color2: #454545;\n",
       "                    background-color: #383838;\n",
       "                }\n",
       "\n",
       "                .geemap-dark .jupyter-button {\n",
       "                    --jp-layout-color3: #383838;\n",
       "                }\n",
       "\n",
       "                .geemap-colab {\n",
       "                    background-color: var(--colab-primary-surface-color, white);\n",
       "                }\n",
       "\n",
       "                .geemap-colab .jupyter-button {\n",
       "                    --jp-layout-color3: var(--colab-primary-surface-color, white);\n",
       "                }\n",
       "            </style>\n",
       "            "
      ],
      "text/plain": [
       "<IPython.core.display.HTML object>"
      ]
     },
     "metadata": {},
     "output_type": "display_data"
    }
   ],
   "source": [
    "# !pip3 install earthengine-api\n",
    "# !pip3 install folium\n",
    "# earthengine authenticate\n",
    "# !pip3 install geemap"
   ]
  },
  {
   "cell_type": "code",
   "execution_count": 49,
   "id": "93ec7dfe",
   "metadata": {},
   "outputs": [
    {
     "data": {
      "text/html": [
       "\n",
       "            <style>\n",
       "                .geemap-dark {\n",
       "                    --jp-widgets-color: white;\n",
       "                    --jp-widgets-label-color: white;\n",
       "                    --jp-ui-font-color1: white;\n",
       "                    --jp-layout-color2: #454545;\n",
       "                    background-color: #383838;\n",
       "                }\n",
       "\n",
       "                .geemap-dark .jupyter-button {\n",
       "                    --jp-layout-color3: #383838;\n",
       "                }\n",
       "\n",
       "                .geemap-colab {\n",
       "                    background-color: var(--colab-primary-surface-color, white);\n",
       "                }\n",
       "\n",
       "                .geemap-colab .jupyter-button {\n",
       "                    --jp-layout-color3: var(--colab-primary-surface-color, white);\n",
       "                }\n",
       "            </style>\n",
       "            "
      ],
      "text/plain": [
       "<IPython.core.display.HTML object>"
      ]
     },
     "metadata": {},
     "output_type": "display_data"
    }
   ],
   "source": [
    "# ALL\n",
    "import ee\n",
    "import folium\n",
    "import geemap\n",
    "import PIL\n",
    "import urllib\n",
    "\n",
    "# AS\n",
    "import matplotlib.pyplot as plt\n",
    "import numpy as np\n",
    "\n",
    "# FROM\n",
    "from IPython.display import Image"
   ]
  },
  {
   "cell_type": "markdown",
   "id": "f0115da1",
   "metadata": {},
   "source": [
    "# Step 2: Define Area of Interest\n",
    "Specify the geographic boundaries of your area of interest (AOI) in Sudan. This could be a specific region where you suspect crop diseases. The coordinates are defined in longitude and latitude."
   ]
  },
  {
   "cell_type": "code",
   "execution_count": 50,
   "id": "0ec40f94",
   "metadata": {},
   "outputs": [
    {
     "data": {
      "text/html": [
       "\n",
       "            <style>\n",
       "                .geemap-dark {\n",
       "                    --jp-widgets-color: white;\n",
       "                    --jp-widgets-label-color: white;\n",
       "                    --jp-ui-font-color1: white;\n",
       "                    --jp-layout-color2: #454545;\n",
       "                    background-color: #383838;\n",
       "                }\n",
       "\n",
       "                .geemap-dark .jupyter-button {\n",
       "                    --jp-layout-color3: #383838;\n",
       "                }\n",
       "\n",
       "                .geemap-colab {\n",
       "                    background-color: var(--colab-primary-surface-color, white);\n",
       "                }\n",
       "\n",
       "                .geemap-colab .jupyter-button {\n",
       "                    --jp-layout-color3: var(--colab-primary-surface-color, white);\n",
       "                }\n",
       "            </style>\n",
       "            "
      ],
      "text/plain": [
       "<IPython.core.display.HTML object>"
      ]
     },
     "metadata": {},
     "output_type": "display_data"
    },
    {
     "data": {
      "text/plain": [
       "True"
      ]
     },
     "execution_count": 50,
     "metadata": {},
     "output_type": "execute_result"
    }
   ],
   "source": [
    "# Authenticate the Earth Engine module.\n",
    "ee.Authenticate()"
   ]
  },
  {
   "cell_type": "code",
   "execution_count": 51,
   "id": "3febf9fc",
   "metadata": {},
   "outputs": [
    {
     "data": {
      "text/html": [
       "\n",
       "            <style>\n",
       "                .geemap-dark {\n",
       "                    --jp-widgets-color: white;\n",
       "                    --jp-widgets-label-color: white;\n",
       "                    --jp-ui-font-color1: white;\n",
       "                    --jp-layout-color2: #454545;\n",
       "                    background-color: #383838;\n",
       "                }\n",
       "\n",
       "                .geemap-dark .jupyter-button {\n",
       "                    --jp-layout-color3: #383838;\n",
       "                }\n",
       "\n",
       "                .geemap-colab {\n",
       "                    background-color: var(--colab-primary-surface-color, white);\n",
       "                }\n",
       "\n",
       "                .geemap-colab .jupyter-button {\n",
       "                    --jp-layout-color3: var(--colab-primary-surface-color, white);\n",
       "                }\n",
       "            </style>\n",
       "            "
      ],
      "text/plain": [
       "<IPython.core.display.HTML object>"
      ]
     },
     "metadata": {},
     "output_type": "display_data"
    }
   ],
   "source": [
    "# Initialize the Earth Engine library\n",
    "ee.Initialize()"
   ]
  },
  {
   "cell_type": "markdown",
   "id": "e1c72f98",
   "metadata": {},
   "source": [
    "# Step 2: Define Area of Interest\n",
    "Specify the geographic boundaries of your area of interest (AOI) in Sudan. This could be a specific region where you suspect crop diseases. The coordinates are defined in longitude and latitude."
   ]
  },
  {
   "cell_type": "code",
   "execution_count": 52,
   "id": "8cc1ac54",
   "metadata": {},
   "outputs": [
    {
     "data": {
      "text/html": [
       "\n",
       "            <style>\n",
       "                .geemap-dark {\n",
       "                    --jp-widgets-color: white;\n",
       "                    --jp-widgets-label-color: white;\n",
       "                    --jp-ui-font-color1: white;\n",
       "                    --jp-layout-color2: #454545;\n",
       "                    background-color: #383838;\n",
       "                }\n",
       "\n",
       "                .geemap-dark .jupyter-button {\n",
       "                    --jp-layout-color3: #383838;\n",
       "                }\n",
       "\n",
       "                .geemap-colab {\n",
       "                    background-color: var(--colab-primary-surface-color, white);\n",
       "                }\n",
       "\n",
       "                .geemap-colab .jupyter-button {\n",
       "                    --jp-layout-color3: var(--colab-primary-surface-color, white);\n",
       "                }\n",
       "            </style>\n",
       "            "
      ],
      "text/plain": [
       "<IPython.core.display.HTML object>"
      ]
     },
     "metadata": {},
     "output_type": "display_data"
    }
   ],
   "source": [
    "# Define a Point and then buffer it to create an area (adjust buffer size as needed).\n",
    "roi = ee.Geometry.Polygon([\n",
    "    [\n",
    "        [32.40230249855585, 15.312285731822914],\n",
    "        [32.40230249855585, 13.546161854195942],\n",
    "        [33.72066187355585, 13.546161854195942],\n",
    "        [33.72066187355585, 15.312285731822914]\n",
    "    ]\n",
    "])\n",
    "\n",
    "# Define Sentinel-2 image collection\n",
    "sentinelCollection = ee.ImageCollection(\"COPERNICUS/S2_HARMONIZED\")\n",
    "imageCollection = ee.ImageCollection(\"COPERNICUS/S2_SR\") # ee.ImageCollection('COPERNICUS/S2')  # Assuming Sentinel-2"
   ]
  },
  {
   "cell_type": "markdown",
   "id": "49930cc6",
   "metadata": {},
   "source": [
    "# Step 3: Acquire Sentinel-2 Imagery\n",
    "Fetch Sentinel-2 imagery that covers your AOI. Filter by date and other relevant properties like cloud cover."
   ]
  },
  {
   "cell_type": "code",
   "execution_count": 53,
   "id": "d8acb092",
   "metadata": {},
   "outputs": [
    {
     "data": {
      "text/html": [
       "\n",
       "            <style>\n",
       "                .geemap-dark {\n",
       "                    --jp-widgets-color: white;\n",
       "                    --jp-widgets-label-color: white;\n",
       "                    --jp-ui-font-color1: white;\n",
       "                    --jp-layout-color2: #454545;\n",
       "                    background-color: #383838;\n",
       "                }\n",
       "\n",
       "                .geemap-dark .jupyter-button {\n",
       "                    --jp-layout-color3: #383838;\n",
       "                }\n",
       "\n",
       "                .geemap-colab {\n",
       "                    background-color: var(--colab-primary-surface-color, white);\n",
       "                }\n",
       "\n",
       "                .geemap-colab .jupyter-button {\n",
       "                    --jp-layout-color3: var(--colab-primary-surface-color, white);\n",
       "                }\n",
       "            </style>\n",
       "            "
      ],
      "text/plain": [
       "<IPython.core.display.HTML object>"
      ]
     },
     "metadata": {},
     "output_type": "display_data"
    }
   ],
   "source": [
    "# Set variables\n",
    "start_date_s = ee.String('2021-02-01') # we use the string at the raster name\n",
    "end_date_s = ee.String('2022-05-20') # we use the string at the raster name\n",
    "cloud_percentage = ee.Number(30)  # format : %30, %50 etc. Lower threshold is recommended.\n",
    "interval = ee.Number(10) # settings for the years to filter on\n",
    "increment = 'day' # settings for the years to filter on"
   ]
  },
  {
   "cell_type": "code",
   "execution_count": 54,
   "id": "91441228",
   "metadata": {},
   "outputs": [
    {
     "data": {
      "text/html": [
       "\n",
       "            <style>\n",
       "                .geemap-dark {\n",
       "                    --jp-widgets-color: white;\n",
       "                    --jp-widgets-label-color: white;\n",
       "                    --jp-ui-font-color1: white;\n",
       "                    --jp-layout-color2: #454545;\n",
       "                    background-color: #383838;\n",
       "                }\n",
       "\n",
       "                .geemap-dark .jupyter-button {\n",
       "                    --jp-layout-color3: #383838;\n",
       "                }\n",
       "\n",
       "                .geemap-colab {\n",
       "                    background-color: var(--colab-primary-surface-color, white);\n",
       "                }\n",
       "\n",
       "                .geemap-colab .jupyter-button {\n",
       "                    --jp-layout-color3: var(--colab-primary-surface-color, white);\n",
       "                }\n",
       "            </style>\n",
       "            "
      ],
      "text/plain": [
       "<IPython.core.display.HTML object>"
      ]
     },
     "metadata": {},
     "output_type": "display_data"
    }
   ],
   "source": [
    "# Calculated variables\n",
    "start_date = ee.Date(start_date_s) # converting string to date data type\n",
    "end_date = ee.Date(end_date_s)"
   ]
  },
  {
   "cell_type": "code",
   "execution_count": 55,
   "id": "1cba6c46",
   "metadata": {},
   "outputs": [
    {
     "data": {
      "text/html": [
       "\n",
       "            <style>\n",
       "                .geemap-dark {\n",
       "                    --jp-widgets-color: white;\n",
       "                    --jp-widgets-label-color: white;\n",
       "                    --jp-ui-font-color1: white;\n",
       "                    --jp-layout-color2: #454545;\n",
       "                    background-color: #383838;\n",
       "                }\n",
       "\n",
       "                .geemap-dark .jupyter-button {\n",
       "                    --jp-layout-color3: #383838;\n",
       "                }\n",
       "\n",
       "                .geemap-colab {\n",
       "                    background-color: var(--colab-primary-surface-color, white);\n",
       "                }\n",
       "\n",
       "                .geemap-colab .jupyter-button {\n",
       "                    --jp-layout-color3: var(--colab-primary-surface-color, white);\n",
       "                }\n",
       "            </style>\n",
       "            "
      ],
      "text/plain": [
       "<IPython.core.display.HTML object>"
      ]
     },
     "metadata": {},
     "output_type": "display_data"
    }
   ],
   "source": [
    "# Define the region of interest, assuming 'roi' is predefined\n",
    "Map = geemap.Map()"
   ]
  },
  {
   "cell_type": "code",
   "execution_count": 56,
   "id": "4ea40459",
   "metadata": {},
   "outputs": [
    {
     "data": {
      "text/html": [
       "\n",
       "            <style>\n",
       "                .geemap-dark {\n",
       "                    --jp-widgets-color: white;\n",
       "                    --jp-widgets-label-color: white;\n",
       "                    --jp-ui-font-color1: white;\n",
       "                    --jp-layout-color2: #454545;\n",
       "                    background-color: #383838;\n",
       "                }\n",
       "\n",
       "                .geemap-dark .jupyter-button {\n",
       "                    --jp-layout-color3: #383838;\n",
       "                }\n",
       "\n",
       "                .geemap-colab {\n",
       "                    background-color: var(--colab-primary-surface-color, white);\n",
       "                }\n",
       "\n",
       "                .geemap-colab .jupyter-button {\n",
       "                    --jp-layout-color3: var(--colab-primary-surface-color, white);\n",
       "                }\n",
       "            </style>\n",
       "            "
      ],
      "text/plain": [
       "<IPython.core.display.HTML object>"
      ]
     },
     "metadata": {},
     "output_type": "display_data"
    }
   ],
   "source": [
    "# Define the region of interest (roi) somehow, here we assume it's predefined\n",
    "# roi = ee.FeatureCollection('path_to_your_roi')"
   ]
  },
  {
   "cell_type": "code",
   "execution_count": 57,
   "id": "c0367d07",
   "metadata": {},
   "outputs": [
    {
     "data": {
      "text/html": [
       "\n",
       "            <style>\n",
       "                .geemap-dark {\n",
       "                    --jp-widgets-color: white;\n",
       "                    --jp-widgets-label-color: white;\n",
       "                    --jp-ui-font-color1: white;\n",
       "                    --jp-layout-color2: #454545;\n",
       "                    background-color: #383838;\n",
       "                }\n",
       "\n",
       "                .geemap-dark .jupyter-button {\n",
       "                    --jp-layout-color3: #383838;\n",
       "                }\n",
       "\n",
       "                .geemap-colab {\n",
       "                    background-color: var(--colab-primary-surface-color, white);\n",
       "                }\n",
       "\n",
       "                .geemap-colab .jupyter-button {\n",
       "                    --jp-layout-color3: var(--colab-primary-surface-color, white);\n",
       "                }\n",
       "            </style>\n",
       "            "
      ],
      "text/plain": [
       "<IPython.core.display.HTML object>"
      ]
     },
     "metadata": {},
     "output_type": "display_data"
    }
   ],
   "source": [
    "# Center the map on the region of interest\n",
    "# Map.centerObject(roi, 8)  # This line can only be replicated in a GEE JavaScript environment"
   ]
  },
  {
   "cell_type": "code",
   "execution_count": 58,
   "id": "23f3173e",
   "metadata": {},
   "outputs": [
    {
     "data": {
      "text/html": [
       "\n",
       "            <style>\n",
       "                .geemap-dark {\n",
       "                    --jp-widgets-color: white;\n",
       "                    --jp-widgets-label-color: white;\n",
       "                    --jp-ui-font-color1: white;\n",
       "                    --jp-layout-color2: #454545;\n",
       "                    background-color: #383838;\n",
       "                }\n",
       "\n",
       "                .geemap-dark .jupyter-button {\n",
       "                    --jp-layout-color3: #383838;\n",
       "                }\n",
       "\n",
       "                .geemap-colab {\n",
       "                    background-color: var(--colab-primary-surface-color, white);\n",
       "                }\n",
       "\n",
       "                .geemap-colab .jupyter-button {\n",
       "                    --jp-layout-color3: var(--colab-primary-surface-color, white);\n",
       "                }\n",
       "            </style>\n",
       "            "
      ],
      "text/plain": [
       "<IPython.core.display.HTML object>"
      ]
     },
     "metadata": {},
     "output_type": "display_data"
    }
   ],
   "source": [
    "# make a list of start years\n",
    "second_date = start_date.advance(interval, increment).millis()\n",
    "increase = second_date.subtract(start_date.millis())\n",
    "list = ee.List.sequence(start_date.millis(), end_date.millis(), increase)"
   ]
  },
  {
   "cell_type": "code",
   "execution_count": 59,
   "id": "308ee253",
   "metadata": {},
   "outputs": [
    {
     "data": {
      "text/html": [
       "\n",
       "            <style>\n",
       "                .geemap-dark {\n",
       "                    --jp-widgets-color: white;\n",
       "                    --jp-widgets-label-color: white;\n",
       "                    --jp-ui-font-color1: white;\n",
       "                    --jp-layout-color2: #454545;\n",
       "                    background-color: #383838;\n",
       "                }\n",
       "\n",
       "                .geemap-dark .jupyter-button {\n",
       "                    --jp-layout-color3: #383838;\n",
       "                }\n",
       "\n",
       "                .geemap-colab {\n",
       "                    background-color: var(--colab-primary-surface-color, white);\n",
       "                }\n",
       "\n",
       "                .geemap-colab .jupyter-button {\n",
       "                    --jp-layout-color3: var(--colab-primary-surface-color, white);\n",
       "                }\n",
       "            </style>\n",
       "            "
      ],
      "text/plain": [
       "<IPython.core.display.HTML object>"
      ]
     },
     "metadata": {},
     "output_type": "display_data"
    },
    {
     "data": {
      "text/plain": [
       "48"
      ]
     },
     "execution_count": 59,
     "metadata": {},
     "output_type": "execute_result"
    }
   ],
   "source": [
    "# Get the number of images\n",
    "len(list.getInfo())"
   ]
  },
  {
   "cell_type": "code",
   "execution_count": 60,
   "id": "92932d87",
   "metadata": {},
   "outputs": [
    {
     "data": {
      "text/html": [
       "\n",
       "            <style>\n",
       "                .geemap-dark {\n",
       "                    --jp-widgets-color: white;\n",
       "                    --jp-widgets-label-color: white;\n",
       "                    --jp-ui-font-color1: white;\n",
       "                    --jp-layout-color2: #454545;\n",
       "                    background-color: #383838;\n",
       "                }\n",
       "\n",
       "                .geemap-dark .jupyter-button {\n",
       "                    --jp-layout-color3: #383838;\n",
       "                }\n",
       "\n",
       "                .geemap-colab {\n",
       "                    background-color: var(--colab-primary-surface-color, white);\n",
       "                }\n",
       "\n",
       "                .geemap-colab .jupyter-button {\n",
       "                    --jp-layout-color3: var(--colab-primary-surface-color, white);\n",
       "                }\n",
       "            </style>\n",
       "            "
      ],
      "text/plain": [
       "<IPython.core.display.HTML object>"
      ]
     },
     "metadata": {},
     "output_type": "display_data"
    }
   ],
   "source": [
    "# Function to add NDVI\n",
    "def addNDVI(image):\n",
    "    ndvi = image.normalizedDifference(['B8', 'B4']).rename('NDVI')\n",
    "    return image.addBands(ndvi)"
   ]
  },
  {
   "cell_type": "code",
   "execution_count": 61,
   "id": "ebb9194e",
   "metadata": {},
   "outputs": [
    {
     "data": {
      "text/html": [
       "\n",
       "            <style>\n",
       "                .geemap-dark {\n",
       "                    --jp-widgets-color: white;\n",
       "                    --jp-widgets-label-color: white;\n",
       "                    --jp-ui-font-color1: white;\n",
       "                    --jp-layout-color2: #454545;\n",
       "                    background-color: #383838;\n",
       "                }\n",
       "\n",
       "                .geemap-dark .jupyter-button {\n",
       "                    --jp-layout-color3: #383838;\n",
       "                }\n",
       "\n",
       "                .geemap-colab {\n",
       "                    background-color: var(--colab-primary-surface-color, white);\n",
       "                }\n",
       "\n",
       "                .geemap-colab .jupyter-button {\n",
       "                    --jp-layout-color3: var(--colab-primary-surface-color, white);\n",
       "                }\n",
       "            </style>\n",
       "            "
      ],
      "text/plain": [
       "<IPython.core.display.HTML object>"
      ]
     },
     "metadata": {},
     "output_type": "display_data"
    }
   ],
   "source": [
    "# Load Sentinel-2 imagery and filter by date, cloud cover and area\n",
    "# Get the image collection\n",
    "sentinel_ts = ee.ImageCollection(imageCollection\n",
    "  .filterBounds(roi)\n",
    "  .filterDate(start_date, end_date)\n",
    "  .select(['B4', 'B8'])\n",
    "  .filter(ee.Filter.lte('CLOUDY_PIXEL_PERCENTAGE', cloud_percentage))\n",
    "  .map(addNDVI)\n",
    "  .select(['NDVI']))"
   ]
  },
  {
   "cell_type": "markdown",
   "id": "5770d13e",
   "metadata": {},
   "source": [
    "# Step 4: Preprocess the Data\n",
    "Select specific bands and perform any necessary preprocessing like normalization or spectral indices (e.g., NDVI for vegetation health)."
   ]
  },
  {
   "cell_type": "code",
   "execution_count": 62,
   "id": "2d7c6ec1",
   "metadata": {},
   "outputs": [
    {
     "data": {
      "text/html": [
       "\n",
       "            <style>\n",
       "                .geemap-dark {\n",
       "                    --jp-widgets-color: white;\n",
       "                    --jp-widgets-label-color: white;\n",
       "                    --jp-ui-font-color1: white;\n",
       "                    --jp-layout-color2: #454545;\n",
       "                    background-color: #383838;\n",
       "                }\n",
       "\n",
       "                .geemap-dark .jupyter-button {\n",
       "                    --jp-layout-color3: #383838;\n",
       "                }\n",
       "\n",
       "                .geemap-colab {\n",
       "                    background-color: var(--colab-primary-surface-color, white);\n",
       "                }\n",
       "\n",
       "                .geemap-colab .jupyter-button {\n",
       "                    --jp-layout-color3: var(--colab-primary-surface-color, white);\n",
       "                }\n",
       "            </style>\n",
       "            "
      ],
      "text/plain": [
       "<IPython.core.display.HTML object>"
      ]
     },
     "metadata": {},
     "output_type": "display_data"
    }
   ],
   "source": [
    "# Monthly composite\n",
    "def monthly_composite(date):\n",
    "    date = ee.Date(date)\n",
    "    return sentinel_ts.select('NDVI').filterDate(date, date.advance(interval, increment)).mean().set('system:time_start', date.millis())"
   ]
  },
  {
   "cell_type": "code",
   "execution_count": 63,
   "id": "ca3a5657",
   "metadata": {},
   "outputs": [
    {
     "data": {
      "text/html": [
       "\n",
       "            <style>\n",
       "                .geemap-dark {\n",
       "                    --jp-widgets-color: white;\n",
       "                    --jp-widgets-label-color: white;\n",
       "                    --jp-ui-font-color1: white;\n",
       "                    --jp-layout-color2: #454545;\n",
       "                    background-color: #383838;\n",
       "                }\n",
       "\n",
       "                .geemap-dark .jupyter-button {\n",
       "                    --jp-layout-color3: #383838;\n",
       "                }\n",
       "\n",
       "                .geemap-colab {\n",
       "                    background-color: var(--colab-primary-surface-color, white);\n",
       "                }\n",
       "\n",
       "                .geemap-colab .jupyter-button {\n",
       "                    --jp-layout-color3: var(--colab-primary-surface-color, white);\n",
       "                }\n",
       "            </style>\n",
       "            "
      ],
      "text/plain": [
       "<IPython.core.display.HTML object>"
      ]
     },
     "metadata": {},
     "output_type": "display_data"
    }
   ],
   "source": [
    "# Create a new collection by mapping the composite function over the date list\n",
    "new_col = ee.ImageCollection.fromImages(list.map(monthly_composite))\n",
    "\n",
    "# Clip the collection to the region of interest\n",
    "new_col = new_col.toBands().clip(roi)"
   ]
  },
  {
   "cell_type": "code",
   "execution_count": 64,
   "id": "713411b5",
   "metadata": {},
   "outputs": [
    {
     "data": {
      "text/html": [
       "\n",
       "            <style>\n",
       "                .geemap-dark {\n",
       "                    --jp-widgets-color: white;\n",
       "                    --jp-widgets-label-color: white;\n",
       "                    --jp-ui-font-color1: white;\n",
       "                    --jp-layout-color2: #454545;\n",
       "                    background-color: #383838;\n",
       "                }\n",
       "\n",
       "                .geemap-dark .jupyter-button {\n",
       "                    --jp-layout-color3: #383838;\n",
       "                }\n",
       "\n",
       "                .geemap-colab {\n",
       "                    background-color: var(--colab-primary-surface-color, white);\n",
       "                }\n",
       "\n",
       "                .geemap-colab .jupyter-button {\n",
       "                    --jp-layout-color3: var(--colab-primary-surface-color, white);\n",
       "                }\n",
       "            </style>\n",
       "            "
      ],
      "text/plain": [
       "<IPython.core.display.HTML object>"
      ]
     },
     "metadata": {},
     "output_type": "display_data"
    },
    {
     "name": "stdout",
     "output_type": "stream",
     "text": [
      "Available band names: ['0_NDVI', '1_NDVI', '2_NDVI', '3_NDVI', '4_NDVI', '5_NDVI', '6_NDVI', '7_NDVI', '8_NDVI', '9_NDVI', '10_NDVI', '11_NDVI', '12_NDVI', '13_NDVI', '14_NDVI', '15_NDVI', '16_NDVI', '18_NDVI', '19_NDVI', '20_NDVI', '21_NDVI', '22_NDVI', '23_NDVI', '24_NDVI', '25_NDVI', '26_NDVI', '27_NDVI', '28_NDVI', '29_NDVI', '30_NDVI', '31_NDVI', '32_NDVI', '33_NDVI', '34_NDVI', '35_NDVI', '36_NDVI', '37_NDVI', '38_NDVI', '39_NDVI', '40_NDVI', '41_NDVI', '42_NDVI', '43_NDVI', '44_NDVI', '45_NDVI', '46_NDVI', '47_NDVI']\n"
     ]
    }
   ],
   "source": [
    "# Available band names\n",
    "band_names = new_col.bandNames().getInfo()\n",
    "print(\"Available band names:\", band_names)"
   ]
  },
  {
   "cell_type": "markdown",
   "id": "9336d4b6",
   "metadata": {},
   "source": [
    "# Step 5: Visualization\n",
    "Visualize the data to manually inspect the area for signs of crop disease or to validate outputs."
   ]
  },
  {
   "cell_type": "code",
   "execution_count": 67,
   "id": "14919f6c",
   "metadata": {},
   "outputs": [
    {
     "data": {
      "text/html": [
       "\n",
       "            <style>\n",
       "                .geemap-dark {\n",
       "                    --jp-widgets-color: white;\n",
       "                    --jp-widgets-label-color: white;\n",
       "                    --jp-ui-font-color1: white;\n",
       "                    --jp-layout-color2: #454545;\n",
       "                    background-color: #383838;\n",
       "                }\n",
       "\n",
       "                .geemap-dark .jupyter-button {\n",
       "                    --jp-layout-color3: #383838;\n",
       "                }\n",
       "\n",
       "                .geemap-colab {\n",
       "                    background-color: var(--colab-primary-surface-color, white);\n",
       "                }\n",
       "\n",
       "                .geemap-colab .jupyter-button {\n",
       "                    --jp-layout-color3: var(--colab-primary-surface-color, white);\n",
       "                }\n",
       "            </style>\n",
       "            "
      ],
      "text/plain": [
       "<IPython.core.display.HTML object>"
      ]
     },
     "metadata": {},
     "output_type": "display_data"
    },
    {
     "name": "stdout",
     "output_type": "stream",
     "text": [
      "Rectangle region and palette: https://earthengine.googleapis.com/v1/projects/earthengine-legacy/thumbnails/9eca66c11c2c64b849a7f94dc5029f5c-410b98ff52f78f39e75d29a1e5faab39:getPixels\n"
     ]
    }
   ],
   "source": [
    "# Generate a thumbnail URL (not directly possible in Python without using a service URL)\n",
    "thumbnail = new_col.getThumbURL({\n",
    "    'min': 0,\n",
    "    'max': 1,\n",
    "    'bands': [\"0_NDVI\", \"1_NDVI\", \"3_NDVI\"],\n",
    "    'dimensions': 1200,\n",
    "    'region': roi,\n",
    "})\n",
    "\n",
    "# Display thumbnail\n",
    "print('Rectangle region and palette:', thumbnail)"
   ]
  },
  {
   "cell_type": "code",
   "execution_count": 79,
   "id": "c9d625e9",
   "metadata": {},
   "outputs": [
    {
     "data": {
      "text/html": [
       "\n",
       "            <style>\n",
       "                .geemap-dark {\n",
       "                    --jp-widgets-color: white;\n",
       "                    --jp-widgets-label-color: white;\n",
       "                    --jp-ui-font-color1: white;\n",
       "                    --jp-layout-color2: #454545;\n",
       "                    background-color: #383838;\n",
       "                }\n",
       "\n",
       "                .geemap-dark .jupyter-button {\n",
       "                    --jp-layout-color3: #383838;\n",
       "                }\n",
       "\n",
       "                .geemap-colab {\n",
       "                    background-color: var(--colab-primary-surface-color, white);\n",
       "                }\n",
       "\n",
       "                .geemap-colab .jupyter-button {\n",
       "                    --jp-layout-color3: var(--colab-primary-surface-color, white);\n",
       "                }\n",
       "            </style>\n",
       "            "
      ],
      "text/plain": [
       "<IPython.core.display.HTML object>"
      ]
     },
     "metadata": {},
     "output_type": "display_data"
    }
   ],
   "source": [
    "# Convert the image to RGB format\n",
    "# image_rgb = np.array(PIL.Image.open(urllib.request.urlopen(thumbnail)).convert('RGB'))\n",
    "\n",
    "# Display the RGB image\n",
    "# plt.imshow(image_rgb)"
   ]
  },
  {
   "cell_type": "code",
   "execution_count": 78,
   "id": "f192db4b",
   "metadata": {},
   "outputs": [
    {
     "data": {
      "text/html": [
       "\n",
       "            <style>\n",
       "                .geemap-dark {\n",
       "                    --jp-widgets-color: white;\n",
       "                    --jp-widgets-label-color: white;\n",
       "                    --jp-ui-font-color1: white;\n",
       "                    --jp-layout-color2: #454545;\n",
       "                    background-color: #383838;\n",
       "                }\n",
       "\n",
       "                .geemap-dark .jupyter-button {\n",
       "                    --jp-layout-color3: #383838;\n",
       "                }\n",
       "\n",
       "                .geemap-colab {\n",
       "                    background-color: var(--colab-primary-surface-color, white);\n",
       "                }\n",
       "\n",
       "                .geemap-colab .jupyter-button {\n",
       "                    --jp-layout-color3: var(--colab-primary-surface-color, white);\n",
       "                }\n",
       "            </style>\n",
       "            "
      ],
      "text/plain": [
       "<IPython.core.display.HTML object>"
      ]
     },
     "metadata": {},
     "output_type": "display_data"
    }
   ],
   "source": [
    "# save image PIL.Image.open(urllib.request.urlopen(thumbnail)).convert('RGB')\n",
    "PIL.Image.open(urllib.request.urlopen(thumbnail)).convert('RGB').save('output.png')"
   ]
  },
  {
   "cell_type": "markdown",
   "id": "91f11b3a",
   "metadata": {},
   "source": [
    "# Multiple"
   ]
  },
  {
   "cell_type": "code",
   "execution_count": 125,
   "id": "90d5a995",
   "metadata": {},
   "outputs": [
    {
     "data": {
      "text/html": [
       "\n",
       "            <style>\n",
       "                .geemap-dark {\n",
       "                    --jp-widgets-color: white;\n",
       "                    --jp-widgets-label-color: white;\n",
       "                    --jp-ui-font-color1: white;\n",
       "                    --jp-layout-color2: #454545;\n",
       "                    background-color: #383838;\n",
       "                }\n",
       "\n",
       "                .geemap-dark .jupyter-button {\n",
       "                    --jp-layout-color3: #383838;\n",
       "                }\n",
       "\n",
       "                .geemap-colab {\n",
       "                    background-color: var(--colab-primary-surface-color, white);\n",
       "                }\n",
       "\n",
       "                .geemap-colab .jupyter-button {\n",
       "                    --jp-layout-color3: var(--colab-primary-surface-color, white);\n",
       "                }\n",
       "            </style>\n",
       "            "
      ],
      "text/plain": [
       "<IPython.core.display.HTML object>"
      ]
     },
     "metadata": {},
     "output_type": "display_data"
    },
    {
     "name": "stdout",
     "output_type": "stream",
     "text": [
      "Start\n",
      "Start Sentinal Image Collection\n",
      "Processing:\n",
      "Exporting\n",
      "Task Started\n",
      "{'state': 'READY', 'description': 'imageToDrive', 'priority': 100, 'creation_timestamp_ms': 1715669591442, 'update_timestamp_ms': 1715669591442, 'start_timestamp_ms': 0, 'task_type': 'EXPORT_IMAGE', 'id': 'RAVASSEKHMKG5FMLOVDYMAJL', 'name': 'projects/earthengine-legacy/operations/RAVASSEKHMKG5FMLOVDYMAJL'}\n",
      "Start\n",
      "Start Sentinal Image Collection\n",
      "Processing:\n",
      "Exporting\n",
      "Task Started\n",
      "{'state': 'READY', 'description': 'imageToDrive', 'priority': 100, 'creation_timestamp_ms': 1715669592496, 'update_timestamp_ms': 1715669592496, 'start_timestamp_ms': 0, 'task_type': 'EXPORT_IMAGE', 'id': 'JVL5V7QEA4VTXFXSWGXW7TJR', 'name': 'projects/earthengine-legacy/operations/JVL5V7QEA4VTXFXSWGXW7TJR'}\n",
      "Start\n",
      "Start Sentinal Image Collection\n",
      "Processing:\n",
      "Exporting\n",
      "Task Started\n",
      "{'state': 'READY', 'description': 'imageToDrive', 'priority': 100, 'creation_timestamp_ms': 1715669593529, 'update_timestamp_ms': 1715669593529, 'start_timestamp_ms': 0, 'task_type': 'EXPORT_IMAGE', 'id': 'I3UD6BACYDGDPMRKPQ7FKLMA', 'name': 'projects/earthengine-legacy/operations/I3UD6BACYDGDPMRKPQ7FKLMA'}\n",
      "Start\n",
      "Start Sentinal Image Collection\n",
      "Processing:\n",
      "Exporting\n",
      "Task Started\n",
      "{'state': 'READY', 'description': 'imageToDrive', 'priority': 100, 'creation_timestamp_ms': 1715669594634, 'update_timestamp_ms': 1715669594634, 'start_timestamp_ms': 0, 'task_type': 'EXPORT_IMAGE', 'id': '54DFM62IXRCUAO4J36BKP2JF', 'name': 'projects/earthengine-legacy/operations/54DFM62IXRCUAO4J36BKP2JF'}\n",
      "Start\n",
      "Start Sentinal Image Collection\n",
      "Processing:\n",
      "Exporting\n",
      "Task Started\n",
      "{'state': 'READY', 'description': 'imageToDrive', 'priority': 100, 'creation_timestamp_ms': 1715669595756, 'update_timestamp_ms': 1715669595756, 'start_timestamp_ms': 0, 'task_type': 'EXPORT_IMAGE', 'id': 'J2PTNLUAWOMY2EEZJ47NH44P', 'name': 'projects/earthengine-legacy/operations/J2PTNLUAWOMY2EEZJ47NH44P'}\n",
      "Start\n",
      "Start Sentinal Image Collection\n",
      "Processing:\n",
      "Exporting\n",
      "Task Started\n",
      "{'state': 'READY', 'description': 'imageToDrive', 'priority': 100, 'creation_timestamp_ms': 1715669596838, 'update_timestamp_ms': 1715669596838, 'start_timestamp_ms': 0, 'task_type': 'EXPORT_IMAGE', 'id': 'YTYUNJLPM4NVLUPWCGW3M3P4', 'name': 'projects/earthengine-legacy/operations/YTYUNJLPM4NVLUPWCGW3M3P4'}\n",
      "Start\n",
      "Start Sentinal Image Collection\n",
      "Processing:\n",
      "Exporting\n",
      "Task Started\n",
      "{'state': 'READY', 'description': 'imageToDrive', 'priority': 100, 'creation_timestamp_ms': 1715669598028, 'update_timestamp_ms': 1715669598028, 'start_timestamp_ms': 0, 'task_type': 'EXPORT_IMAGE', 'id': 'PMI2APVH4M32KYOKPLL3SPEV', 'name': 'projects/earthengine-legacy/operations/PMI2APVH4M32KYOKPLL3SPEV'}\n",
      "Start\n",
      "Start Sentinal Image Collection\n",
      "Processing:\n",
      "Exporting\n",
      "Task Started\n",
      "{'state': 'READY', 'description': 'imageToDrive', 'priority': 100, 'creation_timestamp_ms': 1715669599242, 'update_timestamp_ms': 1715669599242, 'start_timestamp_ms': 0, 'task_type': 'EXPORT_IMAGE', 'id': 'HXOQUN76WWINFLRR5DZG2SAA', 'name': 'projects/earthengine-legacy/operations/HXOQUN76WWINFLRR5DZG2SAA'}\n",
      "Start\n",
      "Start Sentinal Image Collection\n",
      "Processing:\n",
      "Exporting\n",
      "Task Started\n",
      "{'state': 'READY', 'description': 'imageToDrive', 'priority': 100, 'creation_timestamp_ms': 1715669600399, 'update_timestamp_ms': 1715669600399, 'start_timestamp_ms': 0, 'task_type': 'EXPORT_IMAGE', 'id': 'SSKNUNBWWR2EIJFPQVMOORMW', 'name': 'projects/earthengine-legacy/operations/SSKNUNBWWR2EIJFPQVMOORMW'}\n",
      "Start\n",
      "Start Sentinal Image Collection\n",
      "Processing:\n",
      "Exporting\n",
      "Task Started\n",
      "{'state': 'READY', 'description': 'imageToDrive', 'priority': 100, 'creation_timestamp_ms': 1715669601567, 'update_timestamp_ms': 1715669601567, 'start_timestamp_ms': 0, 'task_type': 'EXPORT_IMAGE', 'id': 'IS7GZF53RM7EAJFIH2HSC4IS', 'name': 'projects/earthengine-legacy/operations/IS7GZF53RM7EAJFIH2HSC4IS'}\n",
      "Start\n",
      "Start Sentinal Image Collection\n",
      "Processing:\n",
      "Exporting\n",
      "Task Started\n",
      "{'state': 'READY', 'description': 'imageToDrive', 'priority': 100, 'creation_timestamp_ms': 1715669602712, 'update_timestamp_ms': 1715669602712, 'start_timestamp_ms': 0, 'task_type': 'EXPORT_IMAGE', 'id': 'YUTOW4LPKG7C7FHQBBQ5FQTX', 'name': 'projects/earthengine-legacy/operations/YUTOW4LPKG7C7FHQBBQ5FQTX'}\n",
      "Start\n",
      "Start Sentinal Image Collection\n",
      "Processing:\n",
      "Exporting\n",
      "Task Started\n",
      "{'state': 'READY', 'description': 'imageToDrive', 'priority': 100, 'creation_timestamp_ms': 1715669603775, 'update_timestamp_ms': 1715669603775, 'start_timestamp_ms': 0, 'task_type': 'EXPORT_IMAGE', 'id': 'ULYHP46AUAFPHG32QASZKWXB', 'name': 'projects/earthengine-legacy/operations/ULYHP46AUAFPHG32QASZKWXB'}\n",
      "Start\n",
      "Start Sentinal Image Collection\n",
      "Processing:\n",
      "Exporting\n",
      "Task Started\n",
      "{'state': 'READY', 'description': 'imageToDrive', 'priority': 100, 'creation_timestamp_ms': 1715669605149, 'update_timestamp_ms': 1715669605149, 'start_timestamp_ms': 0, 'task_type': 'EXPORT_IMAGE', 'id': 'CYQFBQSDJKIYOHENX6C5XKCI', 'name': 'projects/earthengine-legacy/operations/CYQFBQSDJKIYOHENX6C5XKCI'}\n",
      "Start\n",
      "Start Sentinal Image Collection\n",
      "Processing:\n",
      "Exporting\n",
      "Task Started\n",
      "{'state': 'READY', 'description': 'imageToDrive', 'priority': 100, 'creation_timestamp_ms': 1715669606316, 'update_timestamp_ms': 1715669606316, 'start_timestamp_ms': 0, 'task_type': 'EXPORT_IMAGE', 'id': 'JRQTDD3RVS5HILYEZ4SYEMJB', 'name': 'projects/earthengine-legacy/operations/JRQTDD3RVS5HILYEZ4SYEMJB'}\n",
      "Start\n",
      "Start Sentinal Image Collection\n",
      "Processing:\n",
      "Exporting\n",
      "Task Started\n",
      "{'state': 'READY', 'description': 'imageToDrive', 'priority': 100, 'creation_timestamp_ms': 1715669607543, 'update_timestamp_ms': 1715669607543, 'start_timestamp_ms': 0, 'task_type': 'EXPORT_IMAGE', 'id': 'OCYQOHQFYJW5JGA52F4OK4WL', 'name': 'projects/earthengine-legacy/operations/OCYQOHQFYJW5JGA52F4OK4WL'}\n",
      "Start\n",
      "Start Sentinal Image Collection\n",
      "Processing:\n",
      "Exporting\n",
      "Task Started\n",
      "{'state': 'READY', 'description': 'imageToDrive', 'priority': 100, 'creation_timestamp_ms': 1715669608757, 'update_timestamp_ms': 1715669608757, 'start_timestamp_ms': 0, 'task_type': 'EXPORT_IMAGE', 'id': 'RB5PKIBSHAEPPETRHZHN5UNN', 'name': 'projects/earthengine-legacy/operations/RB5PKIBSHAEPPETRHZHN5UNN'}\n",
      "Start\n",
      "Start Sentinal Image Collection\n",
      "Processing:\n",
      "Exporting\n",
      "Task Started\n",
      "{'state': 'READY', 'description': 'imageToDrive', 'priority': 100, 'creation_timestamp_ms': 1715669609979, 'update_timestamp_ms': 1715669609979, 'start_timestamp_ms': 0, 'task_type': 'EXPORT_IMAGE', 'id': 'HVTMHMFQ4C4JNOGTZBSR2KY6', 'name': 'projects/earthengine-legacy/operations/HVTMHMFQ4C4JNOGTZBSR2KY6'}\n",
      "Start\n",
      "Start Sentinal Image Collection\n",
      "Processing:\n",
      "Exporting\n",
      "Task Started\n",
      "{'state': 'READY', 'description': 'imageToDrive', 'priority': 100, 'creation_timestamp_ms': 1715669611236, 'update_timestamp_ms': 1715669611236, 'start_timestamp_ms': 0, 'task_type': 'EXPORT_IMAGE', 'id': 'TADWMECJOR4X3O6P4IXZGLGT', 'name': 'projects/earthengine-legacy/operations/TADWMECJOR4X3O6P4IXZGLGT'}\n",
      "Start\n",
      "Start Sentinal Image Collection\n",
      "Processing:\n",
      "Exporting\n",
      "Task Started\n",
      "{'state': 'READY', 'description': 'imageToDrive', 'priority': 100, 'creation_timestamp_ms': 1715669612462, 'update_timestamp_ms': 1715669612462, 'start_timestamp_ms': 0, 'task_type': 'EXPORT_IMAGE', 'id': 'DQQXCN4XSGNYBO7FGZ2VSB3W', 'name': 'projects/earthengine-legacy/operations/DQQXCN4XSGNYBO7FGZ2VSB3W'}\n",
      "Start\n",
      "Start Sentinal Image Collection\n",
      "Processing:\n",
      "Exporting\n",
      "Task Started\n",
      "{'state': 'READY', 'description': 'imageToDrive', 'priority': 100, 'creation_timestamp_ms': 1715669613568, 'update_timestamp_ms': 1715669613568, 'start_timestamp_ms': 0, 'task_type': 'EXPORT_IMAGE', 'id': '45VH52IJHB2GITUTIBWDZCIE', 'name': 'projects/earthengine-legacy/operations/45VH52IJHB2GITUTIBWDZCIE'}\n",
      "Start\n",
      "Start Sentinal Image Collection\n",
      "Processing:\n",
      "Exporting\n",
      "Task Started\n",
      "{'state': 'READY', 'description': 'imageToDrive', 'priority': 100, 'creation_timestamp_ms': 1715669614741, 'update_timestamp_ms': 1715669614741, 'start_timestamp_ms': 0, 'task_type': 'EXPORT_IMAGE', 'id': 'REWXOPFRIJQKEJ5RX7DHN7LR', 'name': 'projects/earthengine-legacy/operations/REWXOPFRIJQKEJ5RX7DHN7LR'}\n",
      "Start\n",
      "Start Sentinal Image Collection\n",
      "Processing:\n",
      "Exporting\n",
      "Task Started\n",
      "{'state': 'READY', 'description': 'imageToDrive', 'priority': 100, 'creation_timestamp_ms': 1715669615865, 'update_timestamp_ms': 1715669615865, 'start_timestamp_ms': 0, 'task_type': 'EXPORT_IMAGE', 'id': 'RHGS7CP6TWVG43SK5VEIDZ3E', 'name': 'projects/earthengine-legacy/operations/RHGS7CP6TWVG43SK5VEIDZ3E'}\n",
      "Start\n",
      "Start Sentinal Image Collection\n",
      "Processing:\n",
      "Exporting\n",
      "Task Started\n",
      "{'state': 'READY', 'description': 'imageToDrive', 'priority': 100, 'creation_timestamp_ms': 1715669616902, 'update_timestamp_ms': 1715669616902, 'start_timestamp_ms': 0, 'task_type': 'EXPORT_IMAGE', 'id': 'DUQV2DL6HV3URBWKIQZRKZKK', 'name': 'projects/earthengine-legacy/operations/DUQV2DL6HV3URBWKIQZRKZKK'}\n",
      "Start\n",
      "Start Sentinal Image Collection\n",
      "Processing:\n",
      "Exporting\n",
      "Task Started\n",
      "{'state': 'READY', 'description': 'imageToDrive', 'priority': 100, 'creation_timestamp_ms': 1715669617953, 'update_timestamp_ms': 1715669617953, 'start_timestamp_ms': 0, 'task_type': 'EXPORT_IMAGE', 'id': 'JMECGA4QO2LD5IP4GCNCOLO5', 'name': 'projects/earthengine-legacy/operations/JMECGA4QO2LD5IP4GCNCOLO5'}\n",
      "Start\n",
      "Start Sentinal Image Collection\n",
      "Processing:\n",
      "Exporting\n",
      "Task Started\n",
      "{'state': 'READY', 'description': 'imageToDrive', 'priority': 100, 'creation_timestamp_ms': 1715669619371, 'update_timestamp_ms': 1715669619371, 'start_timestamp_ms': 0, 'task_type': 'EXPORT_IMAGE', 'id': '2TSILYSQFPYETZDGD3LPZDX4', 'name': 'projects/earthengine-legacy/operations/2TSILYSQFPYETZDGD3LPZDX4'}\n",
      "Start\n",
      "Start Sentinal Image Collection\n",
      "Processing:\n",
      "Exporting\n",
      "Task Started\n",
      "{'state': 'READY', 'description': 'imageToDrive', 'priority': 100, 'creation_timestamp_ms': 1715669620405, 'update_timestamp_ms': 1715669620405, 'start_timestamp_ms': 0, 'task_type': 'EXPORT_IMAGE', 'id': 'CB2OKSXQCVXNXENFXV7XW42R', 'name': 'projects/earthengine-legacy/operations/CB2OKSXQCVXNXENFXV7XW42R'}\n",
      "Start\n",
      "Start Sentinal Image Collection\n",
      "Processing:\n",
      "Exporting\n",
      "Task Started\n",
      "{'state': 'READY', 'description': 'imageToDrive', 'priority': 100, 'creation_timestamp_ms': 1715669621479, 'update_timestamp_ms': 1715669621479, 'start_timestamp_ms': 0, 'task_type': 'EXPORT_IMAGE', 'id': 'ZQUPIPIIOLRFQWFBY6MHBDG2', 'name': 'projects/earthengine-legacy/operations/ZQUPIPIIOLRFQWFBY6MHBDG2'}\n",
      "Start\n",
      "Start Sentinal Image Collection\n",
      "Processing:\n",
      "Exporting\n",
      "Task Started\n",
      "{'state': 'READY', 'description': 'imageToDrive', 'priority': 100, 'creation_timestamp_ms': 1715669622667, 'update_timestamp_ms': 1715669622667, 'start_timestamp_ms': 0, 'task_type': 'EXPORT_IMAGE', 'id': 'CWOC6EKTTIROOENMDUWFE4AE', 'name': 'projects/earthengine-legacy/operations/CWOC6EKTTIROOENMDUWFE4AE'}\n",
      "Start\n",
      "Start Sentinal Image Collection\n",
      "Processing:\n",
      "Exporting\n",
      "Task Started\n",
      "{'state': 'READY', 'description': 'imageToDrive', 'priority': 100, 'creation_timestamp_ms': 1715669623714, 'update_timestamp_ms': 1715669623714, 'start_timestamp_ms': 0, 'task_type': 'EXPORT_IMAGE', 'id': 'RAAUPZART2Y2COPOFECSED7T', 'name': 'projects/earthengine-legacy/operations/RAAUPZART2Y2COPOFECSED7T'}\n",
      "Start\n",
      "Start Sentinal Image Collection\n",
      "Processing:\n",
      "Exporting\n",
      "Task Started\n",
      "{'state': 'READY', 'description': 'imageToDrive', 'priority': 100, 'creation_timestamp_ms': 1715669624747, 'update_timestamp_ms': 1715669624747, 'start_timestamp_ms': 0, 'task_type': 'EXPORT_IMAGE', 'id': 'UGF7GKK6FRKCN5TLDA7QQ7AE', 'name': 'projects/earthengine-legacy/operations/UGF7GKK6FRKCN5TLDA7QQ7AE'}\n",
      "Start\n",
      "Start Sentinal Image Collection\n",
      "Processing:\n",
      "Exporting\n",
      "Task Started\n",
      "{'state': 'READY', 'description': 'imageToDrive', 'priority': 100, 'creation_timestamp_ms': 1715669625795, 'update_timestamp_ms': 1715669625795, 'start_timestamp_ms': 0, 'task_type': 'EXPORT_IMAGE', 'id': '65CIVEAME4WZA3S7COZANU4U', 'name': 'projects/earthengine-legacy/operations/65CIVEAME4WZA3S7COZANU4U'}\n",
      "Start\n",
      "Start Sentinal Image Collection\n",
      "Processing:\n",
      "Exporting\n",
      "Task Started\n",
      "{'state': 'READY', 'description': 'imageToDrive', 'priority': 100, 'creation_timestamp_ms': 1715669626922, 'update_timestamp_ms': 1715669626922, 'start_timestamp_ms': 0, 'task_type': 'EXPORT_IMAGE', 'id': 'SV5SUWAWERHRYRMSXA7OHUVW', 'name': 'projects/earthengine-legacy/operations/SV5SUWAWERHRYRMSXA7OHUVW'}\n",
      "Start\n",
      "Start Sentinal Image Collection\n",
      "Processing:\n",
      "Exporting\n",
      "Task Started\n",
      "{'state': 'READY', 'description': 'imageToDrive', 'priority': 100, 'creation_timestamp_ms': 1715669628001, 'update_timestamp_ms': 1715669628001, 'start_timestamp_ms': 0, 'task_type': 'EXPORT_IMAGE', 'id': 'W273VFXCTAK7KHGDFJI75XG4', 'name': 'projects/earthengine-legacy/operations/W273VFXCTAK7KHGDFJI75XG4'}\n",
      "Start\n",
      "Start Sentinal Image Collection\n",
      "Processing:\n",
      "Exporting\n",
      "Task Started\n",
      "{'state': 'READY', 'description': 'imageToDrive', 'priority': 100, 'creation_timestamp_ms': 1715669629038, 'update_timestamp_ms': 1715669629038, 'start_timestamp_ms': 0, 'task_type': 'EXPORT_IMAGE', 'id': 'SO7AQ2J57ODUJW2Y63XETPME', 'name': 'projects/earthengine-legacy/operations/SO7AQ2J57ODUJW2Y63XETPME'}\n",
      "Start\n",
      "Start Sentinal Image Collection\n",
      "Processing:\n",
      "Exporting\n",
      "Task Started\n",
      "{'state': 'READY', 'description': 'imageToDrive', 'priority': 100, 'creation_timestamp_ms': 1715669630092, 'update_timestamp_ms': 1715669630092, 'start_timestamp_ms': 0, 'task_type': 'EXPORT_IMAGE', 'id': '5AKHN2ABUNV2ARVSVFVMWN3X', 'name': 'projects/earthengine-legacy/operations/5AKHN2ABUNV2ARVSVFVMWN3X'}\n",
      "Start\n",
      "Start Sentinal Image Collection\n",
      "Processing:\n",
      "Exporting\n",
      "Task Started\n",
      "{'state': 'READY', 'description': 'imageToDrive', 'priority': 100, 'creation_timestamp_ms': 1715669631137, 'update_timestamp_ms': 1715669631137, 'start_timestamp_ms': 0, 'task_type': 'EXPORT_IMAGE', 'id': 'ZBK4EDEKYMDVPTBBZIGTIBYX', 'name': 'projects/earthengine-legacy/operations/ZBK4EDEKYMDVPTBBZIGTIBYX'}\n",
      "Start\n",
      "Start Sentinal Image Collection\n",
      "Processing:\n",
      "Exporting\n",
      "Task Started\n",
      "{'state': 'READY', 'description': 'imageToDrive', 'priority': 100, 'creation_timestamp_ms': 1715669632310, 'update_timestamp_ms': 1715669632310, 'start_timestamp_ms': 0, 'task_type': 'EXPORT_IMAGE', 'id': 'KSQ2KB46C2CFT6IAP6DMUB25', 'name': 'projects/earthengine-legacy/operations/KSQ2KB46C2CFT6IAP6DMUB25'}\n",
      "Start\n",
      "Start Sentinal Image Collection\n",
      "Processing:\n",
      "Exporting\n",
      "Task Started\n",
      "{'state': 'READY', 'description': 'imageToDrive', 'priority': 100, 'creation_timestamp_ms': 1715669633561, 'update_timestamp_ms': 1715669633561, 'start_timestamp_ms': 0, 'task_type': 'EXPORT_IMAGE', 'id': 'E7PYYM75F3ZEZH32QMN6KK3T', 'name': 'projects/earthengine-legacy/operations/E7PYYM75F3ZEZH32QMN6KK3T'}\n",
      "Start\n",
      "Start Sentinal Image Collection\n",
      "Processing:\n",
      "Exporting\n",
      "Task Started\n",
      "{'state': 'READY', 'description': 'imageToDrive', 'priority': 100, 'creation_timestamp_ms': 1715669634723, 'update_timestamp_ms': 1715669634723, 'start_timestamp_ms': 0, 'task_type': 'EXPORT_IMAGE', 'id': 'BQTAYNVP3ZZDGWO24LXKPOR2', 'name': 'projects/earthengine-legacy/operations/BQTAYNVP3ZZDGWO24LXKPOR2'}\n",
      "Start\n",
      "Start Sentinal Image Collection\n",
      "Processing:\n",
      "Exporting\n",
      "Task Started\n",
      "{'state': 'READY', 'description': 'imageToDrive', 'priority': 100, 'creation_timestamp_ms': 1715669635867, 'update_timestamp_ms': 1715669635867, 'start_timestamp_ms': 0, 'task_type': 'EXPORT_IMAGE', 'id': 'RLHUR4W2RYKH224TRICTXLK6', 'name': 'projects/earthengine-legacy/operations/RLHUR4W2RYKH224TRICTXLK6'}\n",
      "Start\n",
      "Start Sentinal Image Collection\n",
      "Processing:\n",
      "Exporting\n",
      "Task Started\n",
      "{'state': 'READY', 'description': 'imageToDrive', 'priority': 100, 'creation_timestamp_ms': 1715669637006, 'update_timestamp_ms': 1715669637006, 'start_timestamp_ms': 0, 'task_type': 'EXPORT_IMAGE', 'id': 'ECDQJFUYB4W2KUS4EPMFFQOQ', 'name': 'projects/earthengine-legacy/operations/ECDQJFUYB4W2KUS4EPMFFQOQ'}\n",
      "Start\n",
      "Start Sentinal Image Collection\n",
      "Processing:\n",
      "Exporting\n",
      "Task Started\n",
      "{'state': 'READY', 'description': 'imageToDrive', 'priority': 100, 'creation_timestamp_ms': 1715669638104, 'update_timestamp_ms': 1715669638104, 'start_timestamp_ms': 0, 'task_type': 'EXPORT_IMAGE', 'id': 'XD6Q6FNQQS3TZ7LE6QV7GH4M', 'name': 'projects/earthengine-legacy/operations/XD6Q6FNQQS3TZ7LE6QV7GH4M'}\n",
      "Start\n",
      "Start Sentinal Image Collection\n",
      "Processing:\n",
      "Exporting\n",
      "Task Started\n",
      "{'state': 'READY', 'description': 'imageToDrive', 'priority': 100, 'creation_timestamp_ms': 1715669639202, 'update_timestamp_ms': 1715669639202, 'start_timestamp_ms': 0, 'task_type': 'EXPORT_IMAGE', 'id': 'WBPJHONMZQVSNSO6EGPWFTH5', 'name': 'projects/earthengine-legacy/operations/WBPJHONMZQVSNSO6EGPWFTH5'}\n",
      "Start\n",
      "Start Sentinal Image Collection\n",
      "Processing:\n",
      "Exporting\n",
      "Task Started\n",
      "{'state': 'READY', 'description': 'imageToDrive', 'priority': 100, 'creation_timestamp_ms': 1715669640375, 'update_timestamp_ms': 1715669640375, 'start_timestamp_ms': 0, 'task_type': 'EXPORT_IMAGE', 'id': 'LN5LHY6WTOVNDQ6OUCCFYI23', 'name': 'projects/earthengine-legacy/operations/LN5LHY6WTOVNDQ6OUCCFYI23'}\n",
      "Start\n",
      "Start Sentinal Image Collection\n",
      "Processing:\n",
      "Exporting\n",
      "Task Started\n",
      "{'state': 'READY', 'description': 'imageToDrive', 'priority': 100, 'creation_timestamp_ms': 1715669641669, 'update_timestamp_ms': 1715669641669, 'start_timestamp_ms': 0, 'task_type': 'EXPORT_IMAGE', 'id': 'LFP7XBXYTTJWJW4V72FODRDF', 'name': 'projects/earthengine-legacy/operations/LFP7XBXYTTJWJW4V72FODRDF'}\n",
      "Start\n",
      "Start Sentinal Image Collection\n",
      "Processing:\n",
      "Exporting\n",
      "Task Started\n",
      "{'state': 'READY', 'description': 'imageToDrive', 'priority': 100, 'creation_timestamp_ms': 1715669642784, 'update_timestamp_ms': 1715669642784, 'start_timestamp_ms': 0, 'task_type': 'EXPORT_IMAGE', 'id': 'DRN6INCGB4WPPGOFN4NJRXHF', 'name': 'projects/earthengine-legacy/operations/DRN6INCGB4WPPGOFN4NJRXHF'}\n",
      "Start\n",
      "Start Sentinal Image Collection\n",
      "Processing:\n",
      "Exporting\n",
      "Task Started\n",
      "{'state': 'READY', 'description': 'imageToDrive', 'priority': 100, 'creation_timestamp_ms': 1715669643878, 'update_timestamp_ms': 1715669643878, 'start_timestamp_ms': 0, 'task_type': 'EXPORT_IMAGE', 'id': 'W7KN3OJTBHYBNE6MSZEU554G', 'name': 'projects/earthengine-legacy/operations/W7KN3OJTBHYBNE6MSZEU554G'}\n",
      "Start\n",
      "Start Sentinal Image Collection\n",
      "Processing:\n",
      "Exporting\n",
      "Task Started\n",
      "{'state': 'READY', 'description': 'imageToDrive', 'priority': 100, 'creation_timestamp_ms': 1715669644919, 'update_timestamp_ms': 1715669644919, 'start_timestamp_ms': 0, 'task_type': 'EXPORT_IMAGE', 'id': 'SMVFSAQPNXFW23D4AHPLMQPO', 'name': 'projects/earthengine-legacy/operations/SMVFSAQPNXFW23D4AHPLMQPO'}\n",
      "Start\n",
      "Start Sentinal Image Collection\n",
      "Processing:\n",
      "Exporting\n",
      "Task Started\n",
      "{'state': 'READY', 'description': 'imageToDrive', 'priority': 100, 'creation_timestamp_ms': 1715669646105, 'update_timestamp_ms': 1715669646105, 'start_timestamp_ms': 0, 'task_type': 'EXPORT_IMAGE', 'id': 'U6DUV4CSA7RCQZ5UMAGICA6V', 'name': 'projects/earthengine-legacy/operations/U6DUV4CSA7RCQZ5UMAGICA6V'}\n",
      "Start\n",
      "Start Sentinal Image Collection\n",
      "Processing:\n",
      "Exporting\n",
      "Task Started\n",
      "{'state': 'READY', 'description': 'imageToDrive', 'priority': 100, 'creation_timestamp_ms': 1715669647541, 'update_timestamp_ms': 1715669647541, 'start_timestamp_ms': 0, 'task_type': 'EXPORT_IMAGE', 'id': 'IVZMTGZZLQE5FF3UYXFGFK2Z', 'name': 'projects/earthengine-legacy/operations/IVZMTGZZLQE5FF3UYXFGFK2Z'}\n",
      "Start\n",
      "Start Sentinal Image Collection\n",
      "Processing:\n",
      "Exporting\n",
      "Task Started\n",
      "{'state': 'READY', 'description': 'imageToDrive', 'priority': 100, 'creation_timestamp_ms': 1715669648690, 'update_timestamp_ms': 1715669648690, 'start_timestamp_ms': 0, 'task_type': 'EXPORT_IMAGE', 'id': 'QIZKSQHCPWGP7KHU6DAJCYBC', 'name': 'projects/earthengine-legacy/operations/QIZKSQHCPWGP7KHU6DAJCYBC'}\n",
      "Start\n",
      "Start Sentinal Image Collection\n",
      "Processing:\n",
      "Exporting\n",
      "Task Started\n",
      "{'state': 'READY', 'description': 'imageToDrive', 'priority': 100, 'creation_timestamp_ms': 1715669649998, 'update_timestamp_ms': 1715669649998, 'start_timestamp_ms': 0, 'task_type': 'EXPORT_IMAGE', 'id': '7BD674KP3GWUPUATFGPEGZKN', 'name': 'projects/earthengine-legacy/operations/7BD674KP3GWUPUATFGPEGZKN'}\n",
      "Start\n",
      "Start Sentinal Image Collection\n",
      "Processing:\n",
      "Exporting\n",
      "Task Started\n",
      "{'state': 'READY', 'description': 'imageToDrive', 'priority': 100, 'creation_timestamp_ms': 1715669651235, 'update_timestamp_ms': 1715669651235, 'start_timestamp_ms': 0, 'task_type': 'EXPORT_IMAGE', 'id': 'ECPJFMWPCYNBNB7RE45RDS5O', 'name': 'projects/earthengine-legacy/operations/ECPJFMWPCYNBNB7RE45RDS5O'}\n",
      "Start\n",
      "Start Sentinal Image Collection\n",
      "Processing:\n",
      "Exporting\n",
      "Task Started\n",
      "{'state': 'READY', 'description': 'imageToDrive', 'priority': 100, 'creation_timestamp_ms': 1715669652447, 'update_timestamp_ms': 1715669652447, 'start_timestamp_ms': 0, 'task_type': 'EXPORT_IMAGE', 'id': 'PVRR5CDV7ROSCHOILE2S27NM', 'name': 'projects/earthengine-legacy/operations/PVRR5CDV7ROSCHOILE2S27NM'}\n",
      "Start\n",
      "Start Sentinal Image Collection\n",
      "Processing:\n",
      "Exporting\n",
      "Task Started\n",
      "{'state': 'READY', 'description': 'imageToDrive', 'priority': 100, 'creation_timestamp_ms': 1715669653644, 'update_timestamp_ms': 1715669653644, 'start_timestamp_ms': 0, 'task_type': 'EXPORT_IMAGE', 'id': 'KE636S7MOMCTQTXMOBY3SOFH', 'name': 'projects/earthengine-legacy/operations/KE636S7MOMCTQTXMOBY3SOFH'}\n",
      "Start\n",
      "Start Sentinal Image Collection\n",
      "Processing:\n",
      "Exporting\n",
      "Task Started\n",
      "{'state': 'READY', 'description': 'imageToDrive', 'priority': 100, 'creation_timestamp_ms': 1715669654889, 'update_timestamp_ms': 1715669654889, 'start_timestamp_ms': 0, 'task_type': 'EXPORT_IMAGE', 'id': 'Q26LK57DFBUNWLNOJQVWOFSM', 'name': 'projects/earthengine-legacy/operations/Q26LK57DFBUNWLNOJQVWOFSM'}\n",
      "Start\n",
      "Start Sentinal Image Collection\n",
      "Processing:\n",
      "Exporting\n",
      "Task Started\n",
      "{'state': 'READY', 'description': 'imageToDrive', 'priority': 100, 'creation_timestamp_ms': 1715669656193, 'update_timestamp_ms': 1715669656193, 'start_timestamp_ms': 0, 'task_type': 'EXPORT_IMAGE', 'id': 'WKUG3JFEHSRTC7XHGO2ZZ6NZ', 'name': 'projects/earthengine-legacy/operations/WKUG3JFEHSRTC7XHGO2ZZ6NZ'}\n",
      "Start\n",
      "Start Sentinal Image Collection\n",
      "Processing:\n",
      "Exporting\n",
      "Task Started\n",
      "{'state': 'READY', 'description': 'imageToDrive', 'priority': 100, 'creation_timestamp_ms': 1715669657461, 'update_timestamp_ms': 1715669657461, 'start_timestamp_ms': 0, 'task_type': 'EXPORT_IMAGE', 'id': 'F3ZSTC42BSPUHO4LHGKLKHM3', 'name': 'projects/earthengine-legacy/operations/F3ZSTC42BSPUHO4LHGKLKHM3'}\n",
      "Start\n",
      "Start Sentinal Image Collection\n",
      "Processing:\n",
      "Exporting\n",
      "Task Started\n",
      "{'state': 'READY', 'description': 'imageToDrive', 'priority': 100, 'creation_timestamp_ms': 1715669658640, 'update_timestamp_ms': 1715669658640, 'start_timestamp_ms': 0, 'task_type': 'EXPORT_IMAGE', 'id': 'F3BKKRSJ7JWQYY2XPWHJPMEY', 'name': 'projects/earthengine-legacy/operations/F3BKKRSJ7JWQYY2XPWHJPMEY'}\n",
      "Start\n",
      "Start Sentinal Image Collection\n",
      "Processing:\n",
      "Exporting\n",
      "Task Started\n",
      "{'state': 'READY', 'description': 'imageToDrive', 'priority': 100, 'creation_timestamp_ms': 1715669659841, 'update_timestamp_ms': 1715669659841, 'start_timestamp_ms': 0, 'task_type': 'EXPORT_IMAGE', 'id': 'JDQUQGUYUESYU7ENE4JOLQES', 'name': 'projects/earthengine-legacy/operations/JDQUQGUYUESYU7ENE4JOLQES'}\n",
      "Start\n",
      "Start Sentinal Image Collection\n",
      "Processing:\n",
      "Exporting\n",
      "Task Started\n",
      "{'state': 'READY', 'description': 'imageToDrive', 'priority': 100, 'creation_timestamp_ms': 1715669661961, 'update_timestamp_ms': 1715669661961, 'start_timestamp_ms': 0, 'task_type': 'EXPORT_IMAGE', 'id': '7YXESCYDNN3DREVG5FYMOTZC', 'name': 'projects/earthengine-legacy/operations/7YXESCYDNN3DREVG5FYMOTZC'}\n",
      "Start\n",
      "Start Sentinal Image Collection\n",
      "Processing:\n",
      "Exporting\n",
      "Task Started\n",
      "{'state': 'READY', 'description': 'imageToDrive', 'priority': 100, 'creation_timestamp_ms': 1715669663206, 'update_timestamp_ms': 1715669663206, 'start_timestamp_ms': 0, 'task_type': 'EXPORT_IMAGE', 'id': 'DC6U6JHMCZHFF3QKBUMVJCER', 'name': 'projects/earthengine-legacy/operations/DC6U6JHMCZHFF3QKBUMVJCER'}\n",
      "Start\n",
      "Start Sentinal Image Collection\n",
      "Processing:\n",
      "Exporting\n",
      "Task Started\n",
      "{'state': 'READY', 'description': 'imageToDrive', 'priority': 100, 'creation_timestamp_ms': 1715669664361, 'update_timestamp_ms': 1715669664361, 'start_timestamp_ms': 0, 'task_type': 'EXPORT_IMAGE', 'id': 'UTBKCAWQQSVWUO3AO3UUJYUV', 'name': 'projects/earthengine-legacy/operations/UTBKCAWQQSVWUO3AO3UUJYUV'}\n",
      "Start\n",
      "Start Sentinal Image Collection\n",
      "Processing:\n",
      "Exporting\n",
      "Task Started\n",
      "{'state': 'READY', 'description': 'imageToDrive', 'priority': 100, 'creation_timestamp_ms': 1715669665492, 'update_timestamp_ms': 1715669665492, 'start_timestamp_ms': 0, 'task_type': 'EXPORT_IMAGE', 'id': 'J52P52NQGOARMB4IFMZLAAYY', 'name': 'projects/earthengine-legacy/operations/J52P52NQGOARMB4IFMZLAAYY'}\n",
      "Start\n",
      "Start Sentinal Image Collection\n",
      "Processing:\n",
      "Exporting\n",
      "Task Started\n",
      "{'state': 'READY', 'description': 'imageToDrive', 'priority': 100, 'creation_timestamp_ms': 1715669666691, 'update_timestamp_ms': 1715669666691, 'start_timestamp_ms': 0, 'task_type': 'EXPORT_IMAGE', 'id': 'KEY5SJT523FDT2M4YYPTY45G', 'name': 'projects/earthengine-legacy/operations/KEY5SJT523FDT2M4YYPTY45G'}\n",
      "Start\n",
      "Start Sentinal Image Collection\n",
      "Processing:\n",
      "Exporting\n",
      "Task Started\n",
      "{'state': 'READY', 'description': 'imageToDrive', 'priority': 100, 'creation_timestamp_ms': 1715669667954, 'update_timestamp_ms': 1715669667954, 'start_timestamp_ms': 0, 'task_type': 'EXPORT_IMAGE', 'id': 'AKWV4OXLB5XOV2IYUN63YDYE', 'name': 'projects/earthengine-legacy/operations/AKWV4OXLB5XOV2IYUN63YDYE'}\n",
      "Start\n",
      "Start Sentinal Image Collection\n",
      "Processing:\n",
      "Exporting\n",
      "Task Started\n",
      "{'state': 'READY', 'description': 'imageToDrive', 'priority': 100, 'creation_timestamp_ms': 1715669669165, 'update_timestamp_ms': 1715669669165, 'start_timestamp_ms': 0, 'task_type': 'EXPORT_IMAGE', 'id': 'CHQ5JM3N4ZBN2SUAO6OVH5IB', 'name': 'projects/earthengine-legacy/operations/CHQ5JM3N4ZBN2SUAO6OVH5IB'}\n",
      "Start\n",
      "Start Sentinal Image Collection\n",
      "Processing:\n",
      "Exporting\n",
      "Task Started\n",
      "{'state': 'READY', 'description': 'imageToDrive', 'priority': 100, 'creation_timestamp_ms': 1715669670302, 'update_timestamp_ms': 1715669670302, 'start_timestamp_ms': 0, 'task_type': 'EXPORT_IMAGE', 'id': '6C4XKSVJYWKY2C56KL2B2CYW', 'name': 'projects/earthengine-legacy/operations/6C4XKSVJYWKY2C56KL2B2CYW'}\n",
      "Start\n",
      "Start Sentinal Image Collection\n",
      "Processing:\n",
      "Exporting\n",
      "Task Started\n",
      "{'state': 'READY', 'description': 'imageToDrive', 'priority': 100, 'creation_timestamp_ms': 1715669671490, 'update_timestamp_ms': 1715669671490, 'start_timestamp_ms': 0, 'task_type': 'EXPORT_IMAGE', 'id': 'HDAZDM26UFMYIZPX7KIOCCTH', 'name': 'projects/earthengine-legacy/operations/HDAZDM26UFMYIZPX7KIOCCTH'}\n",
      "Start\n",
      "Start Sentinal Image Collection\n",
      "Processing:\n",
      "Exporting\n",
      "Task Started\n",
      "{'state': 'READY', 'description': 'imageToDrive', 'priority': 100, 'creation_timestamp_ms': 1715669672657, 'update_timestamp_ms': 1715669672657, 'start_timestamp_ms': 0, 'task_type': 'EXPORT_IMAGE', 'id': 'M4NFZI4LXVCCZSRO7SGL2QWA', 'name': 'projects/earthengine-legacy/operations/M4NFZI4LXVCCZSRO7SGL2QWA'}\n",
      "Start\n",
      "Start Sentinal Image Collection\n",
      "Processing:\n",
      "Exporting\n",
      "Task Started\n",
      "{'state': 'READY', 'description': 'imageToDrive', 'priority': 100, 'creation_timestamp_ms': 1715669673918, 'update_timestamp_ms': 1715669673918, 'start_timestamp_ms': 0, 'task_type': 'EXPORT_IMAGE', 'id': 'K4YMWBVEYJOGERENHGIBX3HP', 'name': 'projects/earthengine-legacy/operations/K4YMWBVEYJOGERENHGIBX3HP'}\n",
      "Start\n",
      "Start Sentinal Image Collection\n",
      "Processing:\n",
      "Exporting\n",
      "Task Started\n",
      "{'state': 'READY', 'description': 'imageToDrive', 'priority': 100, 'creation_timestamp_ms': 1715669675556, 'update_timestamp_ms': 1715669675556, 'start_timestamp_ms': 0, 'task_type': 'EXPORT_IMAGE', 'id': 'MJPJR2M7H5ZDRVF7A4BBNCXD', 'name': 'projects/earthengine-legacy/operations/MJPJR2M7H5ZDRVF7A4BBNCXD'}\n",
      "Start\n",
      "Start Sentinal Image Collection\n",
      "Processing:\n",
      "Exporting\n",
      "Task Started\n",
      "{'state': 'READY', 'description': 'imageToDrive', 'priority': 100, 'creation_timestamp_ms': 1715669676826, 'update_timestamp_ms': 1715669676826, 'start_timestamp_ms': 0, 'task_type': 'EXPORT_IMAGE', 'id': 'HIK2YWQBUQJD2OOY7Q6UUTZR', 'name': 'projects/earthengine-legacy/operations/HIK2YWQBUQJD2OOY7Q6UUTZR'}\n",
      "All tasks started.\n"
     ]
    }
   ],
   "source": [
    "# Define the increment (5 minutes)\n",
    "delta = 5\n",
    "\n",
    "# Loop over each interval\n",
    "current_date = start_date\n",
    "\n",
    "# Add one day\n",
    "next_date = ee.Date(current_date).advance(1, 'day')\n",
    "\n",
    "# Convert ee.Date back to string\n",
    "next_date_str = next_date.format('YYYY-MM-dd').getInfo()  # Using getInfo() to retrieve the value from the server\n",
    "\n",
    "\n",
    "while ee.Date(current_date).millis().getInfo() <= ee.Date(end_date).millis().getInfo():\n",
    "    print('Start')\n",
    "    \n",
    "    # Calculate the end date of the current interval\n",
    "    interval_end = ee.Date(current_date).advance(delta, 'day')\n",
    "    \n",
    "    # Format the current date as a string for use in file naming\n",
    "    current_date_str = ee.Date(current_date).format('YYYY-MM-dd_HHmm').getInfo()\n",
    "    \n",
    "    print('Start Sentinal Image Collection')\n",
    "    \n",
    "    # Get the image collection for the current interval\n",
    "    sentinel_ts = ee.ImageCollection(imageCollection\n",
    "                    .filterBounds(roi)\n",
    "                    .filterDate(current_date, interval_end)\n",
    "                    .select(['B4', 'B8'])\n",
    "                    .filter(ee.Filter.lte('CLOUDY_PIXEL_PERCENTAGE', cloud_percentage))\n",
    "                    .map(addNDVI)\n",
    "                    .select(['NDVI'])\n",
    "                    .first())\n",
    "    \n",
    "    print('Processing:')\n",
    "\n",
    "    # Start the export task\n",
    "    task = ee.batch.Export.image.toDrive(\n",
    "        image=sentinel_ts,\n",
    "        description='imageToDrive',\n",
    "        folder='GEE_Folder',\n",
    "        fileNamePrefix='srtm90_v4',\n",
    "        scale=30,\n",
    "        region=roi.getInfo()['coordinates'],\n",
    "        fileFormat='GeoTIFF',\n",
    "        maxPixels=1e9  # Increase max pixels if needed\n",
    "    )\n",
    "    print('Exporting')\n",
    "    \n",
    "    task.start()\n",
    "    print('Task Started')\n",
    "    \n",
    "    # Check the status of the export task after a while\n",
    "    status = task.status()\n",
    "    print(status)\n",
    "\n",
    "    # Move to the next interval by updating the current_date\n",
    "    current_date = interval_end\n",
    "\n",
    "print(\"All tasks started.\")"
   ]
  }
 ],
 "metadata": {
  "kernelspec": {
   "display_name": "Python 3",
   "language": "python",
   "name": "python3"
  },
  "language_info": {
   "codemirror_mode": {
    "name": "ipython",
    "version": 3
   },
   "file_extension": ".py",
   "mimetype": "text/x-python",
   "name": "python",
   "nbconvert_exporter": "python",
   "pygments_lexer": "ipython3",
   "version": "3.11.2"
  }
 },
 "nbformat": 4,
 "nbformat_minor": 5
}
