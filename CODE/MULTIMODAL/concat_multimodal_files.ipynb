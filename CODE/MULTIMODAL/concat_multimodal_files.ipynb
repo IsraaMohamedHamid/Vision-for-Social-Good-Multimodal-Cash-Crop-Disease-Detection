{
 "cells": [
  {
   "cell_type": "code",
   "execution_count": 1,
   "metadata": {},
   "outputs": [],
   "source": [
    "import os\n",
    "import pandas as pd"
   ]
  },
  {
   "cell_type": "code",
   "execution_count": 2,
   "metadata": {},
   "outputs": [],
   "source": [
    "# List of dates to process\n",
    "date_list = ['04_11_21', '14_09_21', '14_09_22', '15_07_22', '25_05_22', '27_07_21']"
   ]
  },
  {
   "cell_type": "code",
   "execution_count": 3,
   "metadata": {},
   "outputs": [],
   "source": [
    "# Set the base directory\n",
    "base_dir = \"/Users/izzymohamed/Desktop/Vision For Social Good/Project/Vision-For-Social-Good/DATA/Peach\""
   ]
  },
  {
   "cell_type": "code",
   "execution_count": 4,
   "metadata": {},
   "outputs": [],
   "source": [
    "# List to hold all the dataframes\n",
    "df_list = []"
   ]
  },
  {
   "cell_type": "code",
   "execution_count": 5,
   "metadata": {},
   "outputs": [],
   "source": [
    "# Loop through each date and read the respective multimodal_data.csv\n",
    "for date in date_list:\n",
    "    date_dir = os.path.join(base_dir, date)\n",
    "    file_path = os.path.join(date_dir, \"multimodal_data.csv\")\n",
    "    \n",
    "    # Read the csv file and add a new column for the date\n",
    "    df = pd.read_csv(file_path)\n",
    "    df['date'] = date  # Adding the date as a new column\n",
    "    \n",
    "    # Append the dataframe to the list\n",
    "    df_list.append(df)"
   ]
  },
  {
   "cell_type": "code",
   "execution_count": 6,
   "metadata": {},
   "outputs": [],
   "source": [
    "# Concatenate all the dataframes into one\n",
    "combined_df = pd.concat(df_list, ignore_index=True)"
   ]
  },
  {
   "cell_type": "code",
   "execution_count": 7,
   "metadata": {},
   "outputs": [
    {
     "name": "stdout",
     "output_type": "stream",
     "text": [
      "Combined file saved to: /Users/izzymohamed/Desktop/Vision For Social Good/Project/Vision-For-Social-Good/DATA/Peach/combined_multimodal_data.csv\n"
     ]
    }
   ],
   "source": [
    "# Save the combined dataframe to the base directory\n",
    "output_file_path = os.path.join(base_dir, \"combined_multimodal_data.csv\")\n",
    "combined_df.to_csv(output_file_path, index=False)\n",
    "\n",
    "print(f\"Combined file saved to: {output_file_path}\")"
   ]
  }
 ],
 "metadata": {
  "kernelspec": {
   "display_name": "Python 3",
   "language": "python",
   "name": "python3"
  },
  "language_info": {
   "codemirror_mode": {
    "name": "ipython",
    "version": 3
   },
   "file_extension": ".py",
   "mimetype": "text/x-python",
   "name": "python",
   "nbconvert_exporter": "python",
   "pygments_lexer": "ipython3",
   "version": "3.11.9"
  }
 },
 "nbformat": 4,
 "nbformat_minor": 2
}
