{
 "cells": [
  {
   "cell_type": "code",
   "execution_count": 1,
   "metadata": {},
   "outputs": [],
   "source": [
    "import os\n",
    "import random\n",
    "import shutil\n",
    "from torchvision import datasets, transforms\n",
    "from PIL import Image"
   ]
  },
  {
   "cell_type": "code",
   "execution_count": 2,
   "metadata": {},
   "outputs": [],
   "source": [
    "source_dir = '/Users/izzymohamed/Desktop/Vision For Social Good/DATA/Dataset for Crop Pest and Disease Detection/CCMT Dataset-Augmented/Sesame/source_set'\n",
    "train_dir = '/Users/izzymohamed/Desktop/Vision For Social Good/DATA/Dataset for Crop Pest and Disease Detection/CCMT Dataset-Augmented/Sesame/train_set'\n",
    "test_dir = '/Users/izzymohamed/Desktop/Vision For Social Good/DATA/Dataset for Crop Pest and Disease Detection/CCMT Dataset-Augmented/Sesame/test_set'\n"
   ]
  },
  {
   "cell_type": "code",
   "execution_count": 3,
   "metadata": {},
   "outputs": [],
   "source": [
    "def create_train_test_split(source_dir, train_dir, test_dir, split_ratio=0.33):\n",
    "    if not os.path.exists(train_dir):\n",
    "        os.makedirs(train_dir)\n",
    "    if not os.path.exists(test_dir):\n",
    "        os.makedirs(test_dir)\n",
    "\n",
    "    for subdir in os.listdir(source_dir):\n",
    "        subdir_path = os.path.join(source_dir, subdir)\n",
    "        if os.path.isdir(subdir_path):\n",
    "            all_images = [f for f in os.listdir(subdir_path) if os.path.isfile(os.path.join(subdir_path, f))]\n",
    "            random.shuffle(all_images)\n",
    "\n",
    "            num_test = int(len(all_images) * split_ratio)\n",
    "            test_images = all_images[:num_test]\n",
    "            train_images = all_images[num_test:]\n",
    "\n",
    "            os.makedirs(os.path.join(train_dir, subdir), exist_ok=True)\n",
    "            os.makedirs(os.path.join(test_dir, subdir), exist_ok=True)\n",
    "\n",
    "            for img in test_images:\n",
    "                shutil.move(os.path.join(subdir_path, img), os.path.join(test_dir, subdir, img))\n",
    "\n",
    "            for img in train_images:\n",
    "                shutil.move(os.path.join(subdir_path, img), os.path.join(train_dir, subdir, img))\n"
   ]
  },
  {
   "cell_type": "code",
   "execution_count": 4,
   "metadata": {},
   "outputs": [],
   "source": [
    "def apply_augmentation(train_dir):\n",
    "    augmentations = transforms.Compose([\n",
    "        transforms.RandomHorizontalFlip(),\n",
    "        transforms.RandomVerticalFlip(),\n",
    "        transforms.RandomRotation(30),\n",
    "        transforms.ColorJitter(brightness=0.2, contrast=0.2, saturation=0.2, hue=0.2),\n",
    "        transforms.RandomResizedCrop(224, scale=(0.8, 1.0)),\n",
    "    ])\n",
    "\n",
    "    for root, _, files in os.walk(train_dir):\n",
    "        for file in files:\n",
    "            if file.endswith(('png', 'jpg', 'jpeg')):\n",
    "                img_path = os.path.join(root, file)\n",
    "                img = Image.open(img_path)\n",
    "                img_aug = augmentations(img)\n",
    "                img_aug.save(img_path)"
   ]
  },
  {
   "cell_type": "code",
   "execution_count": 5,
   "metadata": {},
   "outputs": [
    {
     "name": "stdout",
     "output_type": "stream",
     "text": [
      "source_set/\n",
      "    healthy/\n",
      "    bacterial leaf spots/\n",
      "    gall midge/\n"
     ]
    }
   ],
   "source": [
    "# Display all directories inside the main root\n",
    "def list_directories(path):\n",
    "    for root, dirs, files in os.walk(path):\n",
    "        level = root.replace(path, '').count(os.sep)\n",
    "        indent = ' ' * 4 * (level)\n",
    "        print('{}{}/'.format(indent, os.path.basename(root)))\n",
    "\n",
    "# Call the function with the path you want to explore\n",
    "list_directories(source_dir)"
   ]
  },
  {
   "cell_type": "code",
   "execution_count": 6,
   "metadata": {},
   "outputs": [
    {
     "name": "stdout",
     "output_type": "stream",
     "text": [
      "Train-test split, augmentation, and folder structure check complete.\n"
     ]
    }
   ],
   "source": [
    "create_train_test_split(source_dir, train_dir, test_dir)\n",
    "apply_augmentation(train_dir)\n",
    "print(\"Train-test split, augmentation, and folder structure check complete.\")"
   ]
  }
 ],
 "metadata": {
  "kernelspec": {
   "display_name": "Python 3",
   "language": "python",
   "name": "python3"
  },
  "language_info": {
   "codemirror_mode": {
    "name": "ipython",
    "version": 3
   },
   "file_extension": ".py",
   "mimetype": "text/x-python",
   "name": "python",
   "nbconvert_exporter": "python",
   "pygments_lexer": "ipython3",
   "version": "3.11.9"
  }
 },
 "nbformat": 4,
 "nbformat_minor": 2
}
